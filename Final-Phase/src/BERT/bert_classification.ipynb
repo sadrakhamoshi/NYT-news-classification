{
  "nbformat": 4,
  "nbformat_minor": 0,
  "metadata": {
    "colab": {
      "name": "bert classification.ipynb",
      "provenance": []
    },
    "kernelspec": {
      "name": "python3",
      "display_name": "Python 3"
    },
    "language_info": {
      "name": "python"
    },
    "accelerator": "GPU",
    "gpuClass": "standard"
  },
  "cells": [
    {
      "cell_type": "markdown",
      "source": [
        "#Requirements\n"
      ],
      "metadata": {
        "id": "UXTQMdVa4WkE"
      }
    },
    {
      "cell_type": "markdown",
      "source": [
        "## Install Packages"
      ],
      "metadata": {
        "id": "Kp5G-vHd4h0M"
      }
    },
    {
      "cell_type": "code",
      "source": [
        "!pip install kaggle"
      ],
      "metadata": {
        "colab": {
          "base_uri": "https://localhost:8080/"
        },
        "id": "_Q6C-k58AOBY",
        "outputId": "233b55b5-f0c6-44d4-9d8a-782721c3e225"
      },
      "execution_count": null,
      "outputs": [
        {
          "output_type": "stream",
          "name": "stdout",
          "text": [
            "Looking in indexes: https://pypi.org/simple, https://us-python.pkg.dev/colab-wheels/public/simple/\n",
            "Requirement already satisfied: kaggle in /usr/local/lib/python3.7/dist-packages (1.5.12)\n",
            "Requirement already satisfied: urllib3 in /usr/local/lib/python3.7/dist-packages (from kaggle) (1.24.3)\n",
            "Requirement already satisfied: python-slugify in /usr/local/lib/python3.7/dist-packages (from kaggle) (6.1.2)\n",
            "Requirement already satisfied: requests in /usr/local/lib/python3.7/dist-packages (from kaggle) (2.23.0)\n",
            "Requirement already satisfied: certifi in /usr/local/lib/python3.7/dist-packages (from kaggle) (2022.6.15)\n",
            "Requirement already satisfied: six>=1.10 in /usr/local/lib/python3.7/dist-packages (from kaggle) (1.15.0)\n",
            "Requirement already satisfied: python-dateutil in /usr/local/lib/python3.7/dist-packages (from kaggle) (2.8.2)\n",
            "Requirement already satisfied: tqdm in /usr/local/lib/python3.7/dist-packages (from kaggle) (4.64.0)\n",
            "Requirement already satisfied: text-unidecode>=1.3 in /usr/local/lib/python3.7/dist-packages (from python-slugify->kaggle) (1.3)\n",
            "Requirement already satisfied: idna<3,>=2.5 in /usr/local/lib/python3.7/dist-packages (from requests->kaggle) (2.10)\n",
            "Requirement already satisfied: chardet<4,>=3.0.2 in /usr/local/lib/python3.7/dist-packages (from requests->kaggle) (3.0.4)\n"
          ]
        }
      ]
    },
    {
      "cell_type": "code",
      "source": [
        "! mkdir ~/.kaggle"
      ],
      "metadata": {
        "id": "c8-Liz8hAU2L"
      },
      "execution_count": null,
      "outputs": []
    },
    {
      "cell_type": "code",
      "source": [
        "! cp kaggle.json ~/.kaggle/"
      ],
      "metadata": {
        "id": "CDd0kl8nAxpD"
      },
      "execution_count": null,
      "outputs": []
    },
    {
      "cell_type": "code",
      "source": [
        "! chmod 600 ~/.kaggle/kaggle.json"
      ],
      "metadata": {
        "id": "iAPSRclUA48e"
      },
      "execution_count": null,
      "outputs": []
    },
    {
      "cell_type": "code",
      "source": [
        "!kaggle datasets download -d rmisra/news-category-dataset"
      ],
      "metadata": {
        "colab": {
          "base_uri": "https://localhost:8080/"
        },
        "id": "av1xrG3GBBOo",
        "outputId": "35c410fd-1ef1-46a3-ec9c-33b8d0650a6f"
      },
      "execution_count": null,
      "outputs": [
        {
          "output_type": "stream",
          "name": "stdout",
          "text": [
            "Downloading news-category-dataset.zip to /content\n",
            " 35% 9.00M/25.4M [00:00<00:01, 14.3MB/s]\n",
            "100% 25.4M/25.4M [00:00<00:00, 36.3MB/s]\n"
          ]
        }
      ]
    },
    {
      "cell_type": "code",
      "source": [
        "! unzip news-category-dataset.zip"
      ],
      "metadata": {
        "colab": {
          "base_uri": "https://localhost:8080/"
        },
        "id": "3yEaCzZiBIXW",
        "outputId": "e0c17bac-7c00-4009-89e3-b7ee34e25fe3"
      },
      "execution_count": null,
      "outputs": [
        {
          "output_type": "stream",
          "name": "stdout",
          "text": [
            "Archive:  news-category-dataset.zip\n",
            "  inflating: News_Category_Dataset_v2.json  \n"
          ]
        }
      ]
    },
    {
      "cell_type": "code",
      "source": [
        "!pip install -q -U \"tensorflow-text==2.8.*\""
      ],
      "metadata": {
        "colab": {
          "base_uri": "https://localhost:8080/"
        },
        "id": "z-6UB-b9KvDO",
        "outputId": "2931278b-b3b7-46e4-bf89-753855f6a0a1"
      },
      "execution_count": null,
      "outputs": [
        {
          "output_type": "stream",
          "name": "stdout",
          "text": [
            "\u001b[K     |████████████████████████████████| 4.9 MB 40.3 MB/s \n",
            "\u001b[?25h"
          ]
        }
      ]
    },
    {
      "cell_type": "code",
      "source": [
        "from google.colab import drive\n",
        "drive.mount('/content/drive')"
      ],
      "metadata": {
        "colab": {
          "base_uri": "https://localhost:8080/"
        },
        "id": "oli6li1GiPGO",
        "outputId": "86890d36-6245-4e0f-f0cc-cf00a3ce2b9a"
      },
      "execution_count": null,
      "outputs": [
        {
          "output_type": "stream",
          "name": "stdout",
          "text": [
            "Mounted at /content/drive\n"
          ]
        }
      ]
    },
    {
      "cell_type": "code",
      "source": [
        "!pip install -q tf-models-official==2.7.0"
      ],
      "metadata": {
        "colab": {
          "base_uri": "https://localhost:8080/"
        },
        "id": "SnuyWxpYKzFx",
        "outputId": "4ea455f9-fd50-47d2-bfaa-ef0e6cb5b3f8"
      },
      "execution_count": null,
      "outputs": [
        {
          "output_type": "stream",
          "name": "stdout",
          "text": [
            "\u001b[K     |████████████████████████████████| 1.8 MB 35.0 MB/s \n",
            "\u001b[K     |████████████████████████████████| 43 kB 2.3 MB/s \n",
            "\u001b[K     |████████████████████████████████| 48.3 MB 1.8 MB/s \n",
            "\u001b[K     |████████████████████████████████| 1.2 MB 59.8 MB/s \n",
            "\u001b[K     |████████████████████████████████| 352 kB 69.0 MB/s \n",
            "\u001b[K     |████████████████████████████████| 237 kB 57.5 MB/s \n",
            "\u001b[K     |████████████████████████████████| 92 kB 11.9 MB/s \n",
            "\u001b[K     |████████████████████████████████| 99 kB 10.7 MB/s \n",
            "\u001b[K     |████████████████████████████████| 1.1 MB 46.2 MB/s \n",
            "\u001b[K     |████████████████████████████████| 596 kB 73.2 MB/s \n",
            "\u001b[?25h  Building wheel for py-cpuinfo (setup.py) ... \u001b[?25l\u001b[?25hdone\n",
            "  Building wheel for seqeval (setup.py) ... \u001b[?25l\u001b[?25hdone\n"
          ]
        }
      ]
    },
    {
      "cell_type": "markdown",
      "source": [
        ""
      ],
      "metadata": {
        "id": "Gd5MNZuD4fT5"
      }
    },
    {
      "cell_type": "markdown",
      "source": [
        "## Importing Packages"
      ],
      "metadata": {
        "id": "-CAumVS84lBl"
      }
    },
    {
      "cell_type": "code",
      "source": [
        "import pandas as pd\n",
        "import os\n",
        "import shutil\n",
        "import numpy as np\n",
        "import tensorflow as tf\n",
        "import tensorflow_hub as hub\n",
        "import tensorflow_text as text\n",
        "from official.nlp import optimization \n",
        "\n",
        "import matplotlib.pyplot as plt\n",
        "\n",
        "tf.get_logger().setLevel('ERROR')"
      ],
      "metadata": {
        "id": "ae674im7Ja0s"
      },
      "execution_count": null,
      "outputs": []
    },
    {
      "cell_type": "markdown",
      "source": [
        "#NEWS - last"
      ],
      "metadata": {
        "id": "rrl_GRJZCkSb"
      }
    },
    {
      "cell_type": "code",
      "source": [
        "df = pd.read_json('/content/News_Category_Dataset_v2.json', lines=True)\n",
        "df.head()"
      ],
      "metadata": {
        "colab": {
          "base_uri": "https://localhost:8080/",
          "height": 337
        },
        "id": "J8N3wyTcCnVa",
        "outputId": "6dbb043d-64d3-46b7-d5e7-86bb36240c75"
      },
      "execution_count": null,
      "outputs": [
        {
          "output_type": "execute_result",
          "data": {
            "text/plain": [
              "        category                                           headline  \\\n",
              "0          CRIME  There Were 2 Mass Shootings In Texas Last Week...   \n",
              "1  ENTERTAINMENT  Will Smith Joins Diplo And Nicky Jam For The 2...   \n",
              "2  ENTERTAINMENT    Hugh Grant Marries For The First Time At Age 57   \n",
              "3  ENTERTAINMENT  Jim Carrey Blasts 'Castrato' Adam Schiff And D...   \n",
              "4  ENTERTAINMENT  Julianna Margulies Uses Donald Trump Poop Bags...   \n",
              "\n",
              "           authors                                               link  \\\n",
              "0  Melissa Jeltsen  https://www.huffingtonpost.com/entry/texas-ama...   \n",
              "1    Andy McDonald  https://www.huffingtonpost.com/entry/will-smit...   \n",
              "2       Ron Dicker  https://www.huffingtonpost.com/entry/hugh-gran...   \n",
              "3       Ron Dicker  https://www.huffingtonpost.com/entry/jim-carre...   \n",
              "4       Ron Dicker  https://www.huffingtonpost.com/entry/julianna-...   \n",
              "\n",
              "                                   short_description       date  \n",
              "0  She left her husband. He killed their children... 2018-05-26  \n",
              "1                           Of course it has a song. 2018-05-26  \n",
              "2  The actor and his longtime girlfriend Anna Ebe... 2018-05-26  \n",
              "3  The actor gives Dems an ass-kicking for not fi... 2018-05-26  \n",
              "4  The \"Dietland\" actress said using the bags is ... 2018-05-26  "
            ],
            "text/html": [
              "\n",
              "  <div id=\"df-6815611c-83b7-4ff9-9984-a9a953f21410\">\n",
              "    <div class=\"colab-df-container\">\n",
              "      <div>\n",
              "<style scoped>\n",
              "    .dataframe tbody tr th:only-of-type {\n",
              "        vertical-align: middle;\n",
              "    }\n",
              "\n",
              "    .dataframe tbody tr th {\n",
              "        vertical-align: top;\n",
              "    }\n",
              "\n",
              "    .dataframe thead th {\n",
              "        text-align: right;\n",
              "    }\n",
              "</style>\n",
              "<table border=\"1\" class=\"dataframe\">\n",
              "  <thead>\n",
              "    <tr style=\"text-align: right;\">\n",
              "      <th></th>\n",
              "      <th>category</th>\n",
              "      <th>headline</th>\n",
              "      <th>authors</th>\n",
              "      <th>link</th>\n",
              "      <th>short_description</th>\n",
              "      <th>date</th>\n",
              "    </tr>\n",
              "  </thead>\n",
              "  <tbody>\n",
              "    <tr>\n",
              "      <th>0</th>\n",
              "      <td>CRIME</td>\n",
              "      <td>There Were 2 Mass Shootings In Texas Last Week...</td>\n",
              "      <td>Melissa Jeltsen</td>\n",
              "      <td>https://www.huffingtonpost.com/entry/texas-ama...</td>\n",
              "      <td>She left her husband. He killed their children...</td>\n",
              "      <td>2018-05-26</td>\n",
              "    </tr>\n",
              "    <tr>\n",
              "      <th>1</th>\n",
              "      <td>ENTERTAINMENT</td>\n",
              "      <td>Will Smith Joins Diplo And Nicky Jam For The 2...</td>\n",
              "      <td>Andy McDonald</td>\n",
              "      <td>https://www.huffingtonpost.com/entry/will-smit...</td>\n",
              "      <td>Of course it has a song.</td>\n",
              "      <td>2018-05-26</td>\n",
              "    </tr>\n",
              "    <tr>\n",
              "      <th>2</th>\n",
              "      <td>ENTERTAINMENT</td>\n",
              "      <td>Hugh Grant Marries For The First Time At Age 57</td>\n",
              "      <td>Ron Dicker</td>\n",
              "      <td>https://www.huffingtonpost.com/entry/hugh-gran...</td>\n",
              "      <td>The actor and his longtime girlfriend Anna Ebe...</td>\n",
              "      <td>2018-05-26</td>\n",
              "    </tr>\n",
              "    <tr>\n",
              "      <th>3</th>\n",
              "      <td>ENTERTAINMENT</td>\n",
              "      <td>Jim Carrey Blasts 'Castrato' Adam Schiff And D...</td>\n",
              "      <td>Ron Dicker</td>\n",
              "      <td>https://www.huffingtonpost.com/entry/jim-carre...</td>\n",
              "      <td>The actor gives Dems an ass-kicking for not fi...</td>\n",
              "      <td>2018-05-26</td>\n",
              "    </tr>\n",
              "    <tr>\n",
              "      <th>4</th>\n",
              "      <td>ENTERTAINMENT</td>\n",
              "      <td>Julianna Margulies Uses Donald Trump Poop Bags...</td>\n",
              "      <td>Ron Dicker</td>\n",
              "      <td>https://www.huffingtonpost.com/entry/julianna-...</td>\n",
              "      <td>The \"Dietland\" actress said using the bags is ...</td>\n",
              "      <td>2018-05-26</td>\n",
              "    </tr>\n",
              "  </tbody>\n",
              "</table>\n",
              "</div>\n",
              "      <button class=\"colab-df-convert\" onclick=\"convertToInteractive('df-6815611c-83b7-4ff9-9984-a9a953f21410')\"\n",
              "              title=\"Convert this dataframe to an interactive table.\"\n",
              "              style=\"display:none;\">\n",
              "        \n",
              "  <svg xmlns=\"http://www.w3.org/2000/svg\" height=\"24px\"viewBox=\"0 0 24 24\"\n",
              "       width=\"24px\">\n",
              "    <path d=\"M0 0h24v24H0V0z\" fill=\"none\"/>\n",
              "    <path d=\"M18.56 5.44l.94 2.06.94-2.06 2.06-.94-2.06-.94-.94-2.06-.94 2.06-2.06.94zm-11 1L8.5 8.5l.94-2.06 2.06-.94-2.06-.94L8.5 2.5l-.94 2.06-2.06.94zm10 10l.94 2.06.94-2.06 2.06-.94-2.06-.94-.94-2.06-.94 2.06-2.06.94z\"/><path d=\"M17.41 7.96l-1.37-1.37c-.4-.4-.92-.59-1.43-.59-.52 0-1.04.2-1.43.59L10.3 9.45l-7.72 7.72c-.78.78-.78 2.05 0 2.83L4 21.41c.39.39.9.59 1.41.59.51 0 1.02-.2 1.41-.59l7.78-7.78 2.81-2.81c.8-.78.8-2.07 0-2.86zM5.41 20L4 18.59l7.72-7.72 1.47 1.35L5.41 20z\"/>\n",
              "  </svg>\n",
              "      </button>\n",
              "      \n",
              "  <style>\n",
              "    .colab-df-container {\n",
              "      display:flex;\n",
              "      flex-wrap:wrap;\n",
              "      gap: 12px;\n",
              "    }\n",
              "\n",
              "    .colab-df-convert {\n",
              "      background-color: #E8F0FE;\n",
              "      border: none;\n",
              "      border-radius: 50%;\n",
              "      cursor: pointer;\n",
              "      display: none;\n",
              "      fill: #1967D2;\n",
              "      height: 32px;\n",
              "      padding: 0 0 0 0;\n",
              "      width: 32px;\n",
              "    }\n",
              "\n",
              "    .colab-df-convert:hover {\n",
              "      background-color: #E2EBFA;\n",
              "      box-shadow: 0px 1px 2px rgba(60, 64, 67, 0.3), 0px 1px 3px 1px rgba(60, 64, 67, 0.15);\n",
              "      fill: #174EA6;\n",
              "    }\n",
              "\n",
              "    [theme=dark] .colab-df-convert {\n",
              "      background-color: #3B4455;\n",
              "      fill: #D2E3FC;\n",
              "    }\n",
              "\n",
              "    [theme=dark] .colab-df-convert:hover {\n",
              "      background-color: #434B5C;\n",
              "      box-shadow: 0px 1px 3px 1px rgba(0, 0, 0, 0.15);\n",
              "      filter: drop-shadow(0px 1px 2px rgba(0, 0, 0, 0.3));\n",
              "      fill: #FFFFFF;\n",
              "    }\n",
              "  </style>\n",
              "\n",
              "      <script>\n",
              "        const buttonEl =\n",
              "          document.querySelector('#df-6815611c-83b7-4ff9-9984-a9a953f21410 button.colab-df-convert');\n",
              "        buttonEl.style.display =\n",
              "          google.colab.kernel.accessAllowed ? 'block' : 'none';\n",
              "\n",
              "        async function convertToInteractive(key) {\n",
              "          const element = document.querySelector('#df-6815611c-83b7-4ff9-9984-a9a953f21410');\n",
              "          const dataTable =\n",
              "            await google.colab.kernel.invokeFunction('convertToInteractive',\n",
              "                                                     [key], {});\n",
              "          if (!dataTable) return;\n",
              "\n",
              "          const docLinkHtml = 'Like what you see? Visit the ' +\n",
              "            '<a target=\"_blank\" href=https://colab.research.google.com/notebooks/data_table.ipynb>data table notebook</a>'\n",
              "            + ' to learn more about interactive tables.';\n",
              "          element.innerHTML = '';\n",
              "          dataTable['output_type'] = 'display_data';\n",
              "          await google.colab.output.renderOutput(dataTable, element);\n",
              "          const docLink = document.createElement('div');\n",
              "          docLink.innerHTML = docLinkHtml;\n",
              "          element.appendChild(docLink);\n",
              "        }\n",
              "      </script>\n",
              "    </div>\n",
              "  </div>\n",
              "  "
            ]
          },
          "metadata": {},
          "execution_count": 44
        }
      ]
    },
    {
      "cell_type": "code",
      "source": [
        "cates = df.groupby('category')\n",
        "print(\"total categories:\", cates.ngroups)\n",
        "print(cates.size())"
      ],
      "metadata": {
        "colab": {
          "base_uri": "https://localhost:8080/"
        },
        "id": "2PlZNai9Cy5e",
        "outputId": "1fa129b2-ba77-493b-de13-d4dfafb68a2f"
      },
      "execution_count": null,
      "outputs": [
        {
          "output_type": "stream",
          "name": "stdout",
          "text": [
            "total categories: 41\n",
            "category\n",
            "ARTS               1509\n",
            "ARTS & CULTURE     1339\n",
            "BLACK VOICES       4528\n",
            "BUSINESS           5937\n",
            "COLLEGE            1144\n",
            "COMEDY             5175\n",
            "CRIME              3405\n",
            "CULTURE & ARTS     1030\n",
            "DIVORCE            3426\n",
            "EDUCATION          1004\n",
            "ENTERTAINMENT     16058\n",
            "ENVIRONMENT        1323\n",
            "FIFTY              1401\n",
            "FOOD & DRINK       6226\n",
            "GOOD NEWS          1398\n",
            "GREEN              2622\n",
            "HEALTHY LIVING     6694\n",
            "HOME & LIVING      4195\n",
            "IMPACT             3459\n",
            "LATINO VOICES      1129\n",
            "MEDIA              2815\n",
            "MONEY              1707\n",
            "PARENTING          8677\n",
            "PARENTS            3955\n",
            "POLITICS          32739\n",
            "QUEER VOICES       6314\n",
            "RELIGION           2556\n",
            "SCIENCE            2178\n",
            "SPORTS             4884\n",
            "STYLE              2254\n",
            "STYLE & BEAUTY     9649\n",
            "TASTE              2096\n",
            "TECH               2082\n",
            "THE WORLDPOST      3664\n",
            "TRAVEL             9887\n",
            "WEDDINGS           3651\n",
            "WEIRD NEWS         2670\n",
            "WELLNESS          17827\n",
            "WOMEN              3490\n",
            "WORLD NEWS         2177\n",
            "WORLDPOST          2579\n",
            "dtype: int64\n"
          ]
        }
      ]
    },
    {
      "cell_type": "code",
      "source": [
        "df['text'] = df.headline + \" \" + df.short_description"
      ],
      "metadata": {
        "id": "DJ9xitETC9he"
      },
      "execution_count": null,
      "outputs": []
    },
    {
      "cell_type": "code",
      "source": [
        "news = df['text'].values\n",
        "cat = df['category'].values\n",
        "news.shape, cat.shape"
      ],
      "metadata": {
        "colab": {
          "base_uri": "https://localhost:8080/"
        },
        "id": "-B9KPwn_DAQU",
        "outputId": "9904ede6-d079-49b6-9957-903e683e4ddb"
      },
      "execution_count": null,
      "outputs": [
        {
          "output_type": "execute_result",
          "data": {
            "text/plain": [
              "((200853,), (200853,))"
            ]
          },
          "metadata": {},
          "execution_count": 57
        }
      ]
    },
    {
      "cell_type": "code",
      "source": [
        "LABEL_USED_COUNT = 12\n",
        "label_used = df.category.value_counts().index[:LABEL_USED_COUNT]\n",
        "print('label used for prediction the {}'.format(label_used))\n"
      ],
      "metadata": {
        "colab": {
          "base_uri": "https://localhost:8080/"
        },
        "id": "49q-WnvNHWTp",
        "outputId": "c4ab7d22-6f7a-4b38-e448-7e1b8db307ee"
      },
      "execution_count": null,
      "outputs": [
        {
          "output_type": "stream",
          "name": "stdout",
          "text": [
            "label used for prediction the Index(['POLITICS', 'WELLNESS', 'ENTERTAINMENT', 'TRAVEL', 'STYLE & BEAUTY',\n",
            "       'PARENTING', 'HEALTHY LIVING', 'QUEER VOICES', 'FOOD & DRINK',\n",
            "       'BUSINESS', 'COMEDY', 'SPORTS'],\n",
            "      dtype='object')\n"
          ]
        }
      ]
    },
    {
      "cell_type": "code",
      "source": [
        "df_top_category = df[df['category'].isin(label_used)]\n",
        "df_top_category"
      ],
      "metadata": {
        "colab": {
          "base_uri": "https://localhost:8080/",
          "height": 711
        },
        "id": "BZ4_bXJBHwyB",
        "outputId": "54cc6379-0ac2-413d-a272-54c87c09378c"
      },
      "execution_count": null,
      "outputs": [
        {
          "output_type": "execute_result",
          "data": {
            "text/plain": [
              "             category                                           headline  \\\n",
              "1       ENTERTAINMENT  Will Smith Joins Diplo And Nicky Jam For The 2...   \n",
              "2       ENTERTAINMENT    Hugh Grant Marries For The First Time At Age 57   \n",
              "3       ENTERTAINMENT  Jim Carrey Blasts 'Castrato' Adam Schiff And D...   \n",
              "4       ENTERTAINMENT  Julianna Margulies Uses Donald Trump Poop Bags...   \n",
              "5       ENTERTAINMENT  Morgan Freeman 'Devastated' That Sexual Harass...   \n",
              "...               ...                                                ...   \n",
              "200839  ENTERTAINMENT  'Girl With the Dragon Tattoo' India Release Ca...   \n",
              "200849         SPORTS  Maria Sharapova Stunned By Victoria Azarenka I...   \n",
              "200850         SPORTS  Giants Over Patriots, Jets Over Colts Among  M...   \n",
              "200851         SPORTS  Aldon Smith Arrested: 49ers Linebacker Busted ...   \n",
              "200852         SPORTS  Dwight Howard Rips Teammates After Magic Loss ...   \n",
              "\n",
              "              authors                                               link  \\\n",
              "1       Andy McDonald  https://www.huffingtonpost.com/entry/will-smit...   \n",
              "2          Ron Dicker  https://www.huffingtonpost.com/entry/hugh-gran...   \n",
              "3          Ron Dicker  https://www.huffingtonpost.com/entry/jim-carre...   \n",
              "4          Ron Dicker  https://www.huffingtonpost.com/entry/julianna-...   \n",
              "5          Ron Dicker  https://www.huffingtonpost.com/entry/morgan-fr...   \n",
              "...               ...                                                ...   \n",
              "200839                 https://www.huffingtonpost.com/entry/girl-with...   \n",
              "200849                 https://www.huffingtonpost.com/entry/maria-sha...   \n",
              "200850                 https://www.huffingtonpost.com/entry/super-bow...   \n",
              "200851                 https://www.huffingtonpost.com/entry/aldon-smi...   \n",
              "200852                 https://www.huffingtonpost.com/entry/dwight-ho...   \n",
              "\n",
              "                                        short_description       date  \\\n",
              "1                                Of course it has a song. 2018-05-26   \n",
              "2       The actor and his longtime girlfriend Anna Ebe... 2018-05-26   \n",
              "3       The actor gives Dems an ass-kicking for not fi... 2018-05-26   \n",
              "4       The \"Dietland\" actress said using the bags is ... 2018-05-26   \n",
              "5       \"It is not right to equate horrific incidents ... 2018-05-26   \n",
              "...                                                   ...        ...   \n",
              "200839  \"Sony Pictures will not be releasing The Girl ... 2012-01-28   \n",
              "200849  Afterward, Azarenka, more effusive with the pr... 2012-01-28   \n",
              "200850  Leading up to Super Bowl XLVI, the most talked... 2012-01-28   \n",
              "200851  CORRECTION: An earlier version of this story i... 2012-01-28   \n",
              "200852  The five-time all-star center tore into his te... 2012-01-28   \n",
              "\n",
              "                                                     text  \n",
              "1       Will Smith Joins Diplo And Nicky Jam For The 2...  \n",
              "2       Hugh Grant Marries For The First Time At Age 5...  \n",
              "3       Jim Carrey Blasts 'Castrato' Adam Schiff And D...  \n",
              "4       Julianna Margulies Uses Donald Trump Poop Bags...  \n",
              "5       Morgan Freeman 'Devastated' That Sexual Harass...  \n",
              "...                                                   ...  \n",
              "200839  'Girl With the Dragon Tattoo' India Release Ca...  \n",
              "200849  Maria Sharapova Stunned By Victoria Azarenka I...  \n",
              "200850  Giants Over Patriots, Jets Over Colts Among  M...  \n",
              "200851  Aldon Smith Arrested: 49ers Linebacker Busted ...  \n",
              "200852  Dwight Howard Rips Teammates After Magic Loss ...  \n",
              "\n",
              "[130067 rows x 7 columns]"
            ],
            "text/html": [
              "\n",
              "  <div id=\"df-578ac824-24cc-4677-be95-6ac4c9f70f61\">\n",
              "    <div class=\"colab-df-container\">\n",
              "      <div>\n",
              "<style scoped>\n",
              "    .dataframe tbody tr th:only-of-type {\n",
              "        vertical-align: middle;\n",
              "    }\n",
              "\n",
              "    .dataframe tbody tr th {\n",
              "        vertical-align: top;\n",
              "    }\n",
              "\n",
              "    .dataframe thead th {\n",
              "        text-align: right;\n",
              "    }\n",
              "</style>\n",
              "<table border=\"1\" class=\"dataframe\">\n",
              "  <thead>\n",
              "    <tr style=\"text-align: right;\">\n",
              "      <th></th>\n",
              "      <th>category</th>\n",
              "      <th>headline</th>\n",
              "      <th>authors</th>\n",
              "      <th>link</th>\n",
              "      <th>short_description</th>\n",
              "      <th>date</th>\n",
              "      <th>text</th>\n",
              "    </tr>\n",
              "  </thead>\n",
              "  <tbody>\n",
              "    <tr>\n",
              "      <th>1</th>\n",
              "      <td>ENTERTAINMENT</td>\n",
              "      <td>Will Smith Joins Diplo And Nicky Jam For The 2...</td>\n",
              "      <td>Andy McDonald</td>\n",
              "      <td>https://www.huffingtonpost.com/entry/will-smit...</td>\n",
              "      <td>Of course it has a song.</td>\n",
              "      <td>2018-05-26</td>\n",
              "      <td>Will Smith Joins Diplo And Nicky Jam For The 2...</td>\n",
              "    </tr>\n",
              "    <tr>\n",
              "      <th>2</th>\n",
              "      <td>ENTERTAINMENT</td>\n",
              "      <td>Hugh Grant Marries For The First Time At Age 57</td>\n",
              "      <td>Ron Dicker</td>\n",
              "      <td>https://www.huffingtonpost.com/entry/hugh-gran...</td>\n",
              "      <td>The actor and his longtime girlfriend Anna Ebe...</td>\n",
              "      <td>2018-05-26</td>\n",
              "      <td>Hugh Grant Marries For The First Time At Age 5...</td>\n",
              "    </tr>\n",
              "    <tr>\n",
              "      <th>3</th>\n",
              "      <td>ENTERTAINMENT</td>\n",
              "      <td>Jim Carrey Blasts 'Castrato' Adam Schiff And D...</td>\n",
              "      <td>Ron Dicker</td>\n",
              "      <td>https://www.huffingtonpost.com/entry/jim-carre...</td>\n",
              "      <td>The actor gives Dems an ass-kicking for not fi...</td>\n",
              "      <td>2018-05-26</td>\n",
              "      <td>Jim Carrey Blasts 'Castrato' Adam Schiff And D...</td>\n",
              "    </tr>\n",
              "    <tr>\n",
              "      <th>4</th>\n",
              "      <td>ENTERTAINMENT</td>\n",
              "      <td>Julianna Margulies Uses Donald Trump Poop Bags...</td>\n",
              "      <td>Ron Dicker</td>\n",
              "      <td>https://www.huffingtonpost.com/entry/julianna-...</td>\n",
              "      <td>The \"Dietland\" actress said using the bags is ...</td>\n",
              "      <td>2018-05-26</td>\n",
              "      <td>Julianna Margulies Uses Donald Trump Poop Bags...</td>\n",
              "    </tr>\n",
              "    <tr>\n",
              "      <th>5</th>\n",
              "      <td>ENTERTAINMENT</td>\n",
              "      <td>Morgan Freeman 'Devastated' That Sexual Harass...</td>\n",
              "      <td>Ron Dicker</td>\n",
              "      <td>https://www.huffingtonpost.com/entry/morgan-fr...</td>\n",
              "      <td>\"It is not right to equate horrific incidents ...</td>\n",
              "      <td>2018-05-26</td>\n",
              "      <td>Morgan Freeman 'Devastated' That Sexual Harass...</td>\n",
              "    </tr>\n",
              "    <tr>\n",
              "      <th>...</th>\n",
              "      <td>...</td>\n",
              "      <td>...</td>\n",
              "      <td>...</td>\n",
              "      <td>...</td>\n",
              "      <td>...</td>\n",
              "      <td>...</td>\n",
              "      <td>...</td>\n",
              "    </tr>\n",
              "    <tr>\n",
              "      <th>200839</th>\n",
              "      <td>ENTERTAINMENT</td>\n",
              "      <td>'Girl With the Dragon Tattoo' India Release Ca...</td>\n",
              "      <td></td>\n",
              "      <td>https://www.huffingtonpost.com/entry/girl-with...</td>\n",
              "      <td>\"Sony Pictures will not be releasing The Girl ...</td>\n",
              "      <td>2012-01-28</td>\n",
              "      <td>'Girl With the Dragon Tattoo' India Release Ca...</td>\n",
              "    </tr>\n",
              "    <tr>\n",
              "      <th>200849</th>\n",
              "      <td>SPORTS</td>\n",
              "      <td>Maria Sharapova Stunned By Victoria Azarenka I...</td>\n",
              "      <td></td>\n",
              "      <td>https://www.huffingtonpost.com/entry/maria-sha...</td>\n",
              "      <td>Afterward, Azarenka, more effusive with the pr...</td>\n",
              "      <td>2012-01-28</td>\n",
              "      <td>Maria Sharapova Stunned By Victoria Azarenka I...</td>\n",
              "    </tr>\n",
              "    <tr>\n",
              "      <th>200850</th>\n",
              "      <td>SPORTS</td>\n",
              "      <td>Giants Over Patriots, Jets Over Colts Among  M...</td>\n",
              "      <td></td>\n",
              "      <td>https://www.huffingtonpost.com/entry/super-bow...</td>\n",
              "      <td>Leading up to Super Bowl XLVI, the most talked...</td>\n",
              "      <td>2012-01-28</td>\n",
              "      <td>Giants Over Patriots, Jets Over Colts Among  M...</td>\n",
              "    </tr>\n",
              "    <tr>\n",
              "      <th>200851</th>\n",
              "      <td>SPORTS</td>\n",
              "      <td>Aldon Smith Arrested: 49ers Linebacker Busted ...</td>\n",
              "      <td></td>\n",
              "      <td>https://www.huffingtonpost.com/entry/aldon-smi...</td>\n",
              "      <td>CORRECTION: An earlier version of this story i...</td>\n",
              "      <td>2012-01-28</td>\n",
              "      <td>Aldon Smith Arrested: 49ers Linebacker Busted ...</td>\n",
              "    </tr>\n",
              "    <tr>\n",
              "      <th>200852</th>\n",
              "      <td>SPORTS</td>\n",
              "      <td>Dwight Howard Rips Teammates After Magic Loss ...</td>\n",
              "      <td></td>\n",
              "      <td>https://www.huffingtonpost.com/entry/dwight-ho...</td>\n",
              "      <td>The five-time all-star center tore into his te...</td>\n",
              "      <td>2012-01-28</td>\n",
              "      <td>Dwight Howard Rips Teammates After Magic Loss ...</td>\n",
              "    </tr>\n",
              "  </tbody>\n",
              "</table>\n",
              "<p>130067 rows × 7 columns</p>\n",
              "</div>\n",
              "      <button class=\"colab-df-convert\" onclick=\"convertToInteractive('df-578ac824-24cc-4677-be95-6ac4c9f70f61')\"\n",
              "              title=\"Convert this dataframe to an interactive table.\"\n",
              "              style=\"display:none;\">\n",
              "        \n",
              "  <svg xmlns=\"http://www.w3.org/2000/svg\" height=\"24px\"viewBox=\"0 0 24 24\"\n",
              "       width=\"24px\">\n",
              "    <path d=\"M0 0h24v24H0V0z\" fill=\"none\"/>\n",
              "    <path d=\"M18.56 5.44l.94 2.06.94-2.06 2.06-.94-2.06-.94-.94-2.06-.94 2.06-2.06.94zm-11 1L8.5 8.5l.94-2.06 2.06-.94-2.06-.94L8.5 2.5l-.94 2.06-2.06.94zm10 10l.94 2.06.94-2.06 2.06-.94-2.06-.94-.94-2.06-.94 2.06-2.06.94z\"/><path d=\"M17.41 7.96l-1.37-1.37c-.4-.4-.92-.59-1.43-.59-.52 0-1.04.2-1.43.59L10.3 9.45l-7.72 7.72c-.78.78-.78 2.05 0 2.83L4 21.41c.39.39.9.59 1.41.59.51 0 1.02-.2 1.41-.59l7.78-7.78 2.81-2.81c.8-.78.8-2.07 0-2.86zM5.41 20L4 18.59l7.72-7.72 1.47 1.35L5.41 20z\"/>\n",
              "  </svg>\n",
              "      </button>\n",
              "      \n",
              "  <style>\n",
              "    .colab-df-container {\n",
              "      display:flex;\n",
              "      flex-wrap:wrap;\n",
              "      gap: 12px;\n",
              "    }\n",
              "\n",
              "    .colab-df-convert {\n",
              "      background-color: #E8F0FE;\n",
              "      border: none;\n",
              "      border-radius: 50%;\n",
              "      cursor: pointer;\n",
              "      display: none;\n",
              "      fill: #1967D2;\n",
              "      height: 32px;\n",
              "      padding: 0 0 0 0;\n",
              "      width: 32px;\n",
              "    }\n",
              "\n",
              "    .colab-df-convert:hover {\n",
              "      background-color: #E2EBFA;\n",
              "      box-shadow: 0px 1px 2px rgba(60, 64, 67, 0.3), 0px 1px 3px 1px rgba(60, 64, 67, 0.15);\n",
              "      fill: #174EA6;\n",
              "    }\n",
              "\n",
              "    [theme=dark] .colab-df-convert {\n",
              "      background-color: #3B4455;\n",
              "      fill: #D2E3FC;\n",
              "    }\n",
              "\n",
              "    [theme=dark] .colab-df-convert:hover {\n",
              "      background-color: #434B5C;\n",
              "      box-shadow: 0px 1px 3px 1px rgba(0, 0, 0, 0.15);\n",
              "      filter: drop-shadow(0px 1px 2px rgba(0, 0, 0, 0.3));\n",
              "      fill: #FFFFFF;\n",
              "    }\n",
              "  </style>\n",
              "\n",
              "      <script>\n",
              "        const buttonEl =\n",
              "          document.querySelector('#df-578ac824-24cc-4677-be95-6ac4c9f70f61 button.colab-df-convert');\n",
              "        buttonEl.style.display =\n",
              "          google.colab.kernel.accessAllowed ? 'block' : 'none';\n",
              "\n",
              "        async function convertToInteractive(key) {\n",
              "          const element = document.querySelector('#df-578ac824-24cc-4677-be95-6ac4c9f70f61');\n",
              "          const dataTable =\n",
              "            await google.colab.kernel.invokeFunction('convertToInteractive',\n",
              "                                                     [key], {});\n",
              "          if (!dataTable) return;\n",
              "\n",
              "          const docLinkHtml = 'Like what you see? Visit the ' +\n",
              "            '<a target=\"_blank\" href=https://colab.research.google.com/notebooks/data_table.ipynb>data table notebook</a>'\n",
              "            + ' to learn more about interactive tables.';\n",
              "          element.innerHTML = '';\n",
              "          dataTable['output_type'] = 'display_data';\n",
              "          await google.colab.output.renderOutput(dataTable, element);\n",
              "          const docLink = document.createElement('div');\n",
              "          docLink.innerHTML = docLinkHtml;\n",
              "          element.appendChild(docLink);\n",
              "        }\n",
              "      </script>\n",
              "    </div>\n",
              "  </div>\n",
              "  "
            ]
          },
          "metadata": {},
          "execution_count": 80
        }
      ]
    },
    {
      "cell_type": "code",
      "source": [
        "news = df_top_category['text'].values\n",
        "cats = df_top_category['category'].values"
      ],
      "metadata": {
        "id": "mfGw1fheQw8o"
      },
      "execution_count": null,
      "outputs": []
    },
    {
      "cell_type": "code",
      "source": [
        "category_str = np.unique(cats)\n",
        "cat_to_index = {val:idx for idx, val in enumerate(category_str)}\n",
        "CLASS_NUMBERS = len(category_str)\n",
        "print(cat_to_index), len(category_str)"
      ],
      "metadata": {
        "colab": {
          "base_uri": "https://localhost:8080/"
        },
        "id": "w-kSdHjUQ6qu",
        "outputId": "744063b1-c999-4086-df6b-1987fc90c491"
      },
      "execution_count": null,
      "outputs": [
        {
          "output_type": "stream",
          "name": "stdout",
          "text": [
            "{'BUSINESS': 0, 'COMEDY': 1, 'ENTERTAINMENT': 2, 'FOOD & DRINK': 3, 'HEALTHY LIVING': 4, 'PARENTING': 5, 'POLITICS': 6, 'QUEER VOICES': 7, 'SPORTS': 8, 'STYLE & BEAUTY': 9, 'TRAVEL': 10, 'WELLNESS': 11}\n"
          ]
        },
        {
          "output_type": "execute_result",
          "data": {
            "text/plain": [
              "(None, 12)"
            ]
          },
          "metadata": {},
          "execution_count": 82
        }
      ]
    },
    {
      "cell_type": "code",
      "source": [
        "y = np.array([cat_to_index.get(key) for key in cats])"
      ],
      "metadata": {
        "id": "J6Bwh93eRJKN"
      },
      "execution_count": null,
      "outputs": []
    },
    {
      "cell_type": "code",
      "source": [
        "from sklearn.model_selection import train_test_split\n",
        "X_train, X_test, y_train, y_test = train_test_split(news, y, test_size=0.25)"
      ],
      "metadata": {
        "id": "L11e-a5CRUbr"
      },
      "execution_count": null,
      "outputs": []
    },
    {
      "cell_type": "code",
      "source": [
        "y_train = tf.keras.utils.to_categorical(y_train, num_classes=CLASS_NUMBERS)\n",
        "y_test = tf.keras.utils.to_categorical(y_test, num_classes=CLASS_NUMBERS)"
      ],
      "metadata": {
        "id": "7Sl2yB0xRi3R"
      },
      "execution_count": null,
      "outputs": []
    },
    {
      "cell_type": "markdown",
      "source": [
        "#NYT DATA"
      ],
      "metadata": {
        "id": "m646KmeNg5sl"
      }
    },
    {
      "cell_type": "markdown",
      "source": [
        "## Load data\n",
        "Load the data which preprocessed in previous phase. Data has 33 different classes of news which shuffled."
      ],
      "metadata": {
        "id": "InJnsYla4wYC"
      }
    },
    {
      "cell_type": "code",
      "source": [
        "nyt_data_path = '/content/drive/MyDrive/nlp/cleaned_news.csv'\n",
        "\n",
        "df = pd.read_csv(nyt_data_path)"
      ],
      "metadata": {
        "id": "mNwNpQFfg5Is"
      },
      "execution_count": null,
      "outputs": []
    },
    {
      "cell_type": "code",
      "source": [
        "nyt_news = df['news'].values\n",
        "nyt_cat = df['category'].values\n",
        "nyt_news.shape, nyt_cat.shape"
      ],
      "metadata": {
        "colab": {
          "base_uri": "https://localhost:8080/"
        },
        "id": "1IBHDz7fkVLk",
        "outputId": "aac0d1ec-59c2-4cc5-f95a-e0b2a105e33d"
      },
      "execution_count": null,
      "outputs": [
        {
          "output_type": "execute_result",
          "data": {
            "text/plain": [
              "((14905,), (14905,))"
            ]
          },
          "metadata": {},
          "execution_count": 11
        }
      ]
    },
    {
      "cell_type": "code",
      "source": [
        "nyt_category_str = np.unique(nyt_cat)\n",
        "cat_to_index = {val:idx for idx, val in enumerate(nyt_category_str)}\n",
        "NYT_CLASS_NUMBERS = len(nyt_category_str)\n",
        "print(cat_to_index), len(nyt_category_str)"
      ],
      "metadata": {
        "colab": {
          "base_uri": "https://localhost:8080/"
        },
        "id": "SLTCYaY5klGj",
        "outputId": "a4401109-9bb5-459f-9525-b843a01645db"
      },
      "execution_count": null,
      "outputs": [
        {
          "output_type": "stream",
          "name": "stdout",
          "text": [
            "{'arts': 0, 'books': 1, 'briefing': 2, 'business': 3, 'climate': 4, 'corrections': 5, 'en español': 6, 'fashion': 7, 'food': 8, 'health': 9, 'magazine': 10, 'movies': 11, 'new york': 12, 'obituaries': 13, 'opinion': 14, 'parenting': 15, 'podcasts': 16, 'real estate': 17, 'science': 18, 'sports': 19, 'style': 20, 't magazine': 21, 'technology': 22, 'the learning network': 23, 'the upshot': 24, 'theater': 25, 'times insider': 26, 'today’s paper': 27, 'travel': 28, 'u.s.': 29, 'well': 30, 'world': 31, 'your money': 32}\n"
          ]
        },
        {
          "output_type": "execute_result",
          "data": {
            "text/plain": [
              "(None, 33)"
            ]
          },
          "metadata": {},
          "execution_count": 14
        }
      ]
    },
    {
      "cell_type": "code",
      "source": [
        "nyt_y = np.array([cat_to_index.get(key) for key in nyt_cat])\n",
        "nyt_y.shape "
      ],
      "metadata": {
        "colab": {
          "base_uri": "https://localhost:8080/"
        },
        "id": "PrLavocDk2Iw",
        "outputId": "9387153f-0f63-4b8f-ad87-a6209a1f594a"
      },
      "execution_count": null,
      "outputs": [
        {
          "output_type": "execute_result",
          "data": {
            "text/plain": [
              "(14905,)"
            ]
          },
          "metadata": {},
          "execution_count": 15
        }
      ]
    },
    {
      "cell_type": "code",
      "source": [
        "from sklearn.model_selection import train_test_split\n",
        "X_train, X_test, y_train, y_test = train_test_split(nyt_news, nyt_y, test_size=0.25)"
      ],
      "metadata": {
        "id": "AgKRVHHJleLX"
      },
      "execution_count": null,
      "outputs": []
    },
    {
      "cell_type": "markdown",
      "source": [
        "Labels must be in one-hot encoding."
      ],
      "metadata": {
        "id": "iw7BLOoh4-N8"
      }
    },
    {
      "cell_type": "code",
      "source": [
        "y_train = tf.keras.utils.to_categorical(y_train, num_classes=33)"
      ],
      "metadata": {
        "id": "satKLk62nIkA"
      },
      "execution_count": null,
      "outputs": []
    },
    {
      "cell_type": "code",
      "source": [
        "y_test = tf.keras.utils.to_categorical(y_test, num_classes=33)"
      ],
      "metadata": {
        "id": "IVbzqM-TnY-j"
      },
      "execution_count": null,
      "outputs": []
    },
    {
      "cell_type": "markdown",
      "source": [
        "# NEWS DATA"
      ],
      "metadata": {
        "id": "7eYXGbmMK_Yw"
      }
    },
    {
      "cell_type": "markdown",
      "source": [
        "This Data has 4 different classes of news. "
      ],
      "metadata": {
        "id": "AxuiUfmE5UBj"
      }
    },
    {
      "cell_type": "code",
      "execution_count": null,
      "metadata": {
        "id": "EhtPdnenGt80"
      },
      "outputs": [],
      "source": [
        "DATASET_PATH = '/content/drive/MyDrive/Ag_news_dataset'"
      ]
    },
    {
      "cell_type": "code",
      "source": [
        "TRAIN_DATA_PATH = DATASET_PATH + '/cleaned_train_data.csv'\n",
        "TEST_DATA_PATH = DATASET_PATH + '/cleaned_test_data.csv'"
      ],
      "metadata": {
        "id": "ZZ0OLq0wID-r"
      },
      "execution_count": null,
      "outputs": []
    },
    {
      "cell_type": "code",
      "source": [
        "df_train = pd.read_csv(TRAIN_DATA_PATH)\n",
        "df_test = pd.read_csv(TEST_DATA_PATH)\n",
        "df_test.head()"
      ],
      "metadata": {
        "colab": {
          "base_uri": "https://localhost:8080/",
          "height": 206
        },
        "id": "B-GkjBu-JW2x",
        "outputId": "922da6d7-cd5e-42e8-c065-1cf50918f222"
      },
      "execution_count": null,
      "outputs": [
        {
          "output_type": "execute_result",
          "data": {
            "text/plain": [
              "   Unnamed: 0                                        description  category\n",
              "0           0  union representing worker turner newall say di...         3\n",
              "1           1  spacecom toronto canada secondteam rocketeers ...         4\n",
              "2           2  company founded chemistry researcher universit...         4\n",
              "3           3  barely dawn mike fitzpatrick start shift blur ...         4\n",
              "4           4  southern california smogfighting agency went e...         4"
            ],
            "text/html": [
              "\n",
              "  <div id=\"df-6aa303a4-5196-4d09-b9a4-ca9a3b9d1472\">\n",
              "    <div class=\"colab-df-container\">\n",
              "      <div>\n",
              "<style scoped>\n",
              "    .dataframe tbody tr th:only-of-type {\n",
              "        vertical-align: middle;\n",
              "    }\n",
              "\n",
              "    .dataframe tbody tr th {\n",
              "        vertical-align: top;\n",
              "    }\n",
              "\n",
              "    .dataframe thead th {\n",
              "        text-align: right;\n",
              "    }\n",
              "</style>\n",
              "<table border=\"1\" class=\"dataframe\">\n",
              "  <thead>\n",
              "    <tr style=\"text-align: right;\">\n",
              "      <th></th>\n",
              "      <th>Unnamed: 0</th>\n",
              "      <th>description</th>\n",
              "      <th>category</th>\n",
              "    </tr>\n",
              "  </thead>\n",
              "  <tbody>\n",
              "    <tr>\n",
              "      <th>0</th>\n",
              "      <td>0</td>\n",
              "      <td>union representing worker turner newall say di...</td>\n",
              "      <td>3</td>\n",
              "    </tr>\n",
              "    <tr>\n",
              "      <th>1</th>\n",
              "      <td>1</td>\n",
              "      <td>spacecom toronto canada secondteam rocketeers ...</td>\n",
              "      <td>4</td>\n",
              "    </tr>\n",
              "    <tr>\n",
              "      <th>2</th>\n",
              "      <td>2</td>\n",
              "      <td>company founded chemistry researcher universit...</td>\n",
              "      <td>4</td>\n",
              "    </tr>\n",
              "    <tr>\n",
              "      <th>3</th>\n",
              "      <td>3</td>\n",
              "      <td>barely dawn mike fitzpatrick start shift blur ...</td>\n",
              "      <td>4</td>\n",
              "    </tr>\n",
              "    <tr>\n",
              "      <th>4</th>\n",
              "      <td>4</td>\n",
              "      <td>southern california smogfighting agency went e...</td>\n",
              "      <td>4</td>\n",
              "    </tr>\n",
              "  </tbody>\n",
              "</table>\n",
              "</div>\n",
              "      <button class=\"colab-df-convert\" onclick=\"convertToInteractive('df-6aa303a4-5196-4d09-b9a4-ca9a3b9d1472')\"\n",
              "              title=\"Convert this dataframe to an interactive table.\"\n",
              "              style=\"display:none;\">\n",
              "        \n",
              "  <svg xmlns=\"http://www.w3.org/2000/svg\" height=\"24px\"viewBox=\"0 0 24 24\"\n",
              "       width=\"24px\">\n",
              "    <path d=\"M0 0h24v24H0V0z\" fill=\"none\"/>\n",
              "    <path d=\"M18.56 5.44l.94 2.06.94-2.06 2.06-.94-2.06-.94-.94-2.06-.94 2.06-2.06.94zm-11 1L8.5 8.5l.94-2.06 2.06-.94-2.06-.94L8.5 2.5l-.94 2.06-2.06.94zm10 10l.94 2.06.94-2.06 2.06-.94-2.06-.94-.94-2.06-.94 2.06-2.06.94z\"/><path d=\"M17.41 7.96l-1.37-1.37c-.4-.4-.92-.59-1.43-.59-.52 0-1.04.2-1.43.59L10.3 9.45l-7.72 7.72c-.78.78-.78 2.05 0 2.83L4 21.41c.39.39.9.59 1.41.59.51 0 1.02-.2 1.41-.59l7.78-7.78 2.81-2.81c.8-.78.8-2.07 0-2.86zM5.41 20L4 18.59l7.72-7.72 1.47 1.35L5.41 20z\"/>\n",
              "  </svg>\n",
              "      </button>\n",
              "      \n",
              "  <style>\n",
              "    .colab-df-container {\n",
              "      display:flex;\n",
              "      flex-wrap:wrap;\n",
              "      gap: 12px;\n",
              "    }\n",
              "\n",
              "    .colab-df-convert {\n",
              "      background-color: #E8F0FE;\n",
              "      border: none;\n",
              "      border-radius: 50%;\n",
              "      cursor: pointer;\n",
              "      display: none;\n",
              "      fill: #1967D2;\n",
              "      height: 32px;\n",
              "      padding: 0 0 0 0;\n",
              "      width: 32px;\n",
              "    }\n",
              "\n",
              "    .colab-df-convert:hover {\n",
              "      background-color: #E2EBFA;\n",
              "      box-shadow: 0px 1px 2px rgba(60, 64, 67, 0.3), 0px 1px 3px 1px rgba(60, 64, 67, 0.15);\n",
              "      fill: #174EA6;\n",
              "    }\n",
              "\n",
              "    [theme=dark] .colab-df-convert {\n",
              "      background-color: #3B4455;\n",
              "      fill: #D2E3FC;\n",
              "    }\n",
              "\n",
              "    [theme=dark] .colab-df-convert:hover {\n",
              "      background-color: #434B5C;\n",
              "      box-shadow: 0px 1px 3px 1px rgba(0, 0, 0, 0.15);\n",
              "      filter: drop-shadow(0px 1px 2px rgba(0, 0, 0, 0.3));\n",
              "      fill: #FFFFFF;\n",
              "    }\n",
              "  </style>\n",
              "\n",
              "      <script>\n",
              "        const buttonEl =\n",
              "          document.querySelector('#df-6aa303a4-5196-4d09-b9a4-ca9a3b9d1472 button.colab-df-convert');\n",
              "        buttonEl.style.display =\n",
              "          google.colab.kernel.accessAllowed ? 'block' : 'none';\n",
              "\n",
              "        async function convertToInteractive(key) {\n",
              "          const element = document.querySelector('#df-6aa303a4-5196-4d09-b9a4-ca9a3b9d1472');\n",
              "          const dataTable =\n",
              "            await google.colab.kernel.invokeFunction('convertToInteractive',\n",
              "                                                     [key], {});\n",
              "          if (!dataTable) return;\n",
              "\n",
              "          const docLinkHtml = 'Like what you see? Visit the ' +\n",
              "            '<a target=\"_blank\" href=https://colab.research.google.com/notebooks/data_table.ipynb>data table notebook</a>'\n",
              "            + ' to learn more about interactive tables.';\n",
              "          element.innerHTML = '';\n",
              "          dataTable['output_type'] = 'display_data';\n",
              "          await google.colab.output.renderOutput(dataTable, element);\n",
              "          const docLink = document.createElement('div');\n",
              "          docLink.innerHTML = docLinkHtml;\n",
              "          element.appendChild(docLink);\n",
              "        }\n",
              "      </script>\n",
              "    </div>\n",
              "  </div>\n",
              "  "
            ]
          },
          "metadata": {},
          "execution_count": 92
        }
      ]
    },
    {
      "cell_type": "code",
      "source": [
        "X_train = df_train['description']\n",
        "X_test = df_test['description']\n",
        "\n",
        "num_classes = 4\n",
        "\n",
        "y_train = tf.keras.utils.to_categorical(df_train['category'].values - 1, num_classes=num_classes)\n",
        "y_test = tf.keras.utils.to_categorical(df_test['category'].values - 1, num_classes=num_classes)\n",
        "\n",
        "print(len(X_train), len(X_test))\n",
        "print(len(y_train), len(y_test))"
      ],
      "metadata": {
        "colab": {
          "base_uri": "https://localhost:8080/"
        },
        "id": "gJBbUSEBJ95t",
        "outputId": "e0a6a97b-e6a4-4dcb-8013-5e6aca68f871"
      },
      "execution_count": null,
      "outputs": [
        {
          "output_type": "stream",
          "name": "stdout",
          "text": [
            "120000 7600\n",
            "120000 7600\n"
          ]
        }
      ]
    },
    {
      "cell_type": "markdown",
      "source": [
        "#model\n"
      ],
      "metadata": {
        "id": "zJiGZdVJz3dP"
      }
    },
    {
      "cell_type": "markdown",
      "source": [
        "For text classification we used BERT. There is a preprocessor and encoder which defined below. A dropout layer is Added with a classifer."
      ],
      "metadata": {
        "id": "KotjMGqS5ZP3"
      }
    },
    {
      "cell_type": "code",
      "source": [
        "tf.keras.utils.plot_model(classifier_model)"
      ],
      "metadata": {
        "colab": {
          "base_uri": "https://localhost:8080/",
          "height": 466
        },
        "id": "a9q0ohhHPfyo",
        "outputId": "761f334f-8b63-46c2-c243-2d3aee139431"
      },
      "execution_count": null,
      "outputs": [
        {
          "output_type": "execute_result",
          "data": {
            "text/plain": [
              "<IPython.core.display.Image object>"
            ],
            "image/png": "[encoded data removed]"
          },
          "metadata": {},
          "execution_count": 76
        }
      ]
    },
    {
      "cell_type": "code",
      "source": [
        "import tensorflow_hub as hub\n",
        "import tensorflow_text as text\n",
        "\n",
        "preprocessor = hub.KerasLayer(\"https://tfhub.dev/tensorflow/bert_en_uncased_preprocess/3\")\n",
        "encoder = hub.KerasLayer(\"https://tfhub.dev/tensorflow/small_bert/bert_en_uncased_L-4_H-512_A-8/1\")\n",
        "\n",
        "def get_embeddings(sentences):\n",
        "  '''return BERT-like embeddings of input text\n",
        "  Args:\n",
        "    - sentences: list of strings\n",
        "  Output:\n",
        "    - BERT-like embeddings: tf.Tensor of shape=(len(sentences), 768)\n",
        "  '''\n",
        "  preprocessed_text = preprocessor(sentences)\n",
        "  return encoder(preprocessed_text)['pooled_output']\n"
      ],
      "metadata": {
        "id": "JM3SgVW6z28d"
      },
      "execution_count": null,
      "outputs": []
    },
    {
      "cell_type": "code",
      "source": [
        "from keras import backend as K\n",
        "\n",
        "def balanced_recall(y_true, y_pred):\n",
        "    \"\"\"This function calculates the balanced recall metric\n",
        "    recall = TP / (TP + FN)\n",
        "    \"\"\"\n",
        "    recall_by_class = 0\n",
        "    # iterate over each predicted class to get class-specific metric\n",
        "    for i in range(y_pred.shape[1]):\n",
        "        y_pred_class = y_pred[:, i]\n",
        "        y_true_class = y_true[:, i]\n",
        "        true_positives = K.sum(K.round(K.clip(y_true_class * y_pred_class, 0, 1)))\n",
        "        possible_positives = K.sum(K.round(K.clip(y_true_class, 0, 1)))\n",
        "        recall = true_positives / (possible_positives + K.epsilon())\n",
        "        recall_by_class = recall_by_class + recall\n",
        "    return recall_by_class / y_pred.shape[1]\n",
        "\n",
        "def balanced_precision(y_true, y_pred):\n",
        "    \"\"\"This function calculates the balanced precision metric\n",
        "    precision = TP / (TP + FP)\n",
        "    \"\"\"\n",
        "    precision_by_class = 0\n",
        "    # iterate over each predicted class to get class-specific metric\n",
        "    for i in range(y_pred.shape[1]):\n",
        "        y_pred_class = y_pred[:, i]\n",
        "        y_true_class = y_true[:, i]\n",
        "        true_positives = K.sum(K.round(K.clip(y_true_class * y_pred_class, 0, 1)))\n",
        "        predicted_positives = K.sum(K.round(K.clip(y_pred_class, 0, 1)))\n",
        "        precision = true_positives / (predicted_positives + K.epsilon())\n",
        "        precision_by_class = precision_by_class + precision\n",
        "    # return average balanced metric for each class\n",
        "    return precision_by_class / y_pred.shape[1]\n",
        "\n",
        "def balanced_f1_score(y_true, y_pred):\n",
        "    \"\"\"This function calculates the F1 score metric\"\"\"\n",
        "    precision = balanced_precision(y_true, y_pred)\n",
        "    recall = balanced_recall(y_true, y_pred)\n",
        "    return 2 * ((precision * recall) / (precision + recall + K.epsilon()))\n"
      ],
      "metadata": {
        "id": "AuoMs4RZz9uB"
      },
      "execution_count": null,
      "outputs": []
    },
    {
      "cell_type": "code",
      "source": [
        "num_classes = 12\n",
        "i = tf.keras.layers.Input(shape=(), dtype=tf.string, name='text')\n",
        "x = preprocessor(i)\n",
        "x = encoder(x)\n",
        "x = tf.keras.layers.Dropout(0.2, name=\"dropout\")(x['pooled_output'])\n",
        "x = tf.keras.layers.Dense(64, activation='relu')(x)\n",
        "x = tf.keras.layers.Dense(num_classes, activation='softmax', name=\"output\")(x)\n",
        "\n",
        "model = tf.keras.Model(i, x)"
      ],
      "metadata": {
        "id": "qqGPQIqE0Kp_"
      },
      "execution_count": null,
      "outputs": []
    },
    {
      "cell_type": "code",
      "source": [
        "n_epochs = 10\n",
        "\n",
        "METRICS = [\n",
        "      tf.keras.metrics.CategoricalAccuracy(),\n",
        "      balanced_recall,\n",
        "      balanced_precision,\n",
        "      balanced_f1_score\n",
        "]\n",
        "\n",
        "earlystop_callback = tf.keras.callbacks.EarlyStopping(monitor = \"val_loss\", \n",
        "                                                      patience = 3,\n",
        "                                                      restore_best_weights = True)\n",
        "\n",
        "model.compile(optimizer = \"adam\",\n",
        "              loss = \"categorical_crossentropy\",\n",
        "              metrics = METRICS)\n",
        "\n",
        "model_fit = model.fit(X_train, \n",
        "                      y_train, \n",
        "                      epochs = n_epochs,\n",
        "                      validation_data = (X_test, y_test),\n",
        "                      callbacks = [earlystop_callback],\n",
        "                      batch_size = 32)\n"
      ],
      "metadata": {
        "colab": {
          "base_uri": "https://localhost:8080/"
        },
        "id": "FDRy3dIg0bxt",
        "outputId": "36d3e1c5-060e-488f-adcb-bcda47fba77c"
      },
      "execution_count": null,
      "outputs": [
        {
          "output_type": "stream",
          "name": "stdout",
          "text": [
            "Epoch 1/10\n",
            "3750/3750 [==============================] - 260s 69ms/step - loss: 0.6195 - categorical_accuracy: 0.7647 - balanced_recall: 0.7063 - balanced_precision: 0.8109 - balanced_f1_score: 0.7522 - val_loss: 0.5142 - val_categorical_accuracy: 0.8124 - val_balanced_recall: 0.7652 - val_balanced_precision: 0.8503 - val_balanced_f1_score: 0.8044\n",
            "Epoch 2/10\n",
            "3750/3750 [==============================] - 255s 68ms/step - loss: 0.5708 - categorical_accuracy: 0.7868 - balanced_recall: 0.7405 - balanced_precision: 0.8273 - balanced_f1_score: 0.7804 - val_loss: 0.5043 - val_categorical_accuracy: 0.8163 - val_balanced_recall: 0.7656 - val_balanced_precision: 0.8512 - val_balanced_f1_score: 0.8048\n",
            "Epoch 3/10\n",
            "3750/3750 [==============================] - 252s 67ms/step - loss: 0.5572 - categorical_accuracy: 0.7918 - balanced_recall: 0.7468 - balanced_precision: 0.8305 - balanced_f1_score: 0.7854 - val_loss: 0.4805 - val_categorical_accuracy: 0.8288 - val_balanced_recall: 0.7769 - val_balanced_precision: 0.8583 - val_balanced_f1_score: 0.8144\n",
            "Epoch 4/10\n",
            "3750/3750 [==============================] - 254s 68ms/step - loss: 0.5476 - categorical_accuracy: 0.7952 - balanced_recall: 0.7517 - balanced_precision: 0.8333 - balanced_f1_score: 0.7895 - val_loss: 0.4714 - val_categorical_accuracy: 0.8329 - val_balanced_recall: 0.7889 - val_balanced_precision: 0.8602 - val_balanced_f1_score: 0.8220\n",
            "Epoch 5/10\n",
            "3750/3750 [==============================] - 254s 68ms/step - loss: 0.5418 - categorical_accuracy: 0.7971 - balanced_recall: 0.7567 - balanced_precision: 0.8349 - balanced_f1_score: 0.7930 - val_loss: 0.4718 - val_categorical_accuracy: 0.8307 - val_balanced_recall: 0.7884 - val_balanced_precision: 0.8588 - val_balanced_f1_score: 0.8211\n",
            "Epoch 6/10\n",
            "3750/3750 [==============================] - 253s 68ms/step - loss: 0.5404 - categorical_accuracy: 0.7984 - balanced_recall: 0.7567 - balanced_precision: 0.8360 - balanced_f1_score: 0.7934 - val_loss: 0.4695 - val_categorical_accuracy: 0.8325 - val_balanced_recall: 0.7844 - val_balanced_precision: 0.8590 - val_balanced_f1_score: 0.8188\n",
            "Epoch 7/10\n",
            "3750/3750 [==============================] - 253s 68ms/step - loss: 0.5338 - categorical_accuracy: 0.8008 - balanced_recall: 0.7598 - balanced_precision: 0.8377 - balanced_f1_score: 0.7959 - val_loss: 0.4614 - val_categorical_accuracy: 0.8336 - val_balanced_recall: 0.7951 - val_balanced_precision: 0.8620 - val_balanced_f1_score: 0.8262\n",
            "Epoch 8/10\n",
            "3750/3750 [==============================] - 255s 68ms/step - loss: 0.5322 - categorical_accuracy: 0.8006 - balanced_recall: 0.7611 - balanced_precision: 0.8375 - balanced_f1_score: 0.7966 - val_loss: 0.4591 - val_categorical_accuracy: 0.8353 - val_balanced_recall: 0.7938 - val_balanced_precision: 0.8605 - val_balanced_f1_score: 0.8247\n",
            "Epoch 9/10\n",
            "3750/3750 [==============================] - 254s 68ms/step - loss: 0.5302 - categorical_accuracy: 0.8020 - balanced_recall: 0.7625 - balanced_precision: 0.8379 - balanced_f1_score: 0.7975 - val_loss: 0.4668 - val_categorical_accuracy: 0.8326 - val_balanced_recall: 0.7897 - val_balanced_precision: 0.8650 - val_balanced_f1_score: 0.8245\n",
            "Epoch 10/10\n",
            "3750/3750 [==============================] - 257s 69ms/step - loss: 0.5266 - categorical_accuracy: 0.8035 - balanced_recall: 0.7634 - balanced_precision: 0.8382 - balanced_f1_score: 0.7982 - val_loss: 0.4659 - val_categorical_accuracy: 0.8330 - val_balanced_recall: 0.7883 - val_balanced_precision: 0.8611 - val_balanced_f1_score: 0.8220\n"
          ]
        }
      ]
    },
    {
      "cell_type": "code",
      "source": [
        "model.save(\"/content/drive/MyDrive/Ag_news_dataset/bert_text_classifier_NYT\")"
      ],
      "metadata": {
        "colab": {
          "base_uri": "https://localhost:8080/"
        },
        "id": "nj2mkybVDUgN",
        "outputId": "2f12d120-868e-481c-e6be-58ab0c703a34"
      },
      "execution_count": null,
      "outputs": [
        {
          "output_type": "stream",
          "name": "stderr",
          "text": [
            "WARNING:absl:Found untraced functions such as restored_function_body, restored_function_body, restored_function_body, restored_function_body, restored_function_body while saving (showing 5 of 64). These functions will not be directly callable after loading.\n"
          ]
        }
      ]
    },
    {
      "cell_type": "code",
      "source": [
        "n_epochs = 20\n",
        "\n",
        "METRICS = [\n",
        "      tf.keras.metrics.CategoricalAccuracy(),\n",
        "      balanced_recall,\n",
        "      balanced_precision,\n",
        "      balanced_f1_score\n",
        "]\n",
        "\n",
        "earlystop_callback = tf.keras.callbacks.EarlyStopping(monitor = \"val_loss\", \n",
        "                                                      patience = 3,\n",
        "                                                      restore_best_weights = True)\n",
        "\n",
        "model.compile(optimizer = \"adam\",\n",
        "              loss = \"categorical_crossentropy\",\n",
        "              metrics = METRICS)\n",
        "\n",
        "model_fit = model.fit(X_train, \n",
        "                      y_train, \n",
        "                      epochs = n_epochs,\n",
        "                      validation_data = (X_test, y_test),\n",
        "                      callbacks = [earlystop_callback])"
      ],
      "metadata": {
        "colab": {
          "base_uri": "https://localhost:8080/"
        },
        "id": "MugVUdo4mbNp",
        "outputId": "f564ec7e-0ac1-4790-9042-947d5d39515f"
      },
      "execution_count": null,
      "outputs": [
        {
          "output_type": "stream",
          "name": "stdout",
          "text": [
            "Epoch 1/20\n",
            "350/350 [==============================] - 45s 98ms/step - loss: 2.8556 - categorical_accuracy: 0.2226 - balanced_recall: 0.0292 - balanced_precision: 0.0332 - balanced_f1_score: 0.0307 - val_loss: 2.2587 - val_categorical_accuracy: 0.3821 - val_balanced_recall: 0.0733 - val_balanced_precision: 0.0813 - val_balanced_f1_score: 0.0766\n",
            "Epoch 2/20\n",
            "350/350 [==============================] - 30s 87ms/step - loss: 2.3253 - categorical_accuracy: 0.3490 - balanced_recall: 0.0799 - balanced_precision: 0.0931 - balanced_f1_score: 0.0854 - val_loss: 2.0265 - val_categorical_accuracy: 0.4325 - val_balanced_recall: 0.1024 - val_balanced_precision: 0.1180 - val_balanced_f1_score: 0.1090\n",
            "Epoch 3/20\n",
            "350/350 [==============================] - 31s 88ms/step - loss: 2.1949 - categorical_accuracy: 0.3757 - balanced_recall: 0.1006 - balanced_precision: 0.1172 - balanced_f1_score: 0.1076 - val_loss: 1.9715 - val_categorical_accuracy: 0.4355 - val_balanced_recall: 0.1191 - val_balanced_precision: 0.1363 - val_balanced_f1_score: 0.1265\n",
            "Epoch 4/20\n",
            "350/350 [==============================] - 30s 86ms/step - loss: 2.1319 - categorical_accuracy: 0.3935 - balanced_recall: 0.1087 - balanced_precision: 0.1312 - balanced_f1_score: 0.1182 - val_loss: 1.8833 - val_categorical_accuracy: 0.4607 - val_balanced_recall: 0.1270 - val_balanced_precision: 0.1462 - val_balanced_f1_score: 0.1352\n",
            "Epoch 5/20\n",
            "350/350 [==============================] - 30s 85ms/step - loss: 2.0875 - categorical_accuracy: 0.4014 - balanced_recall: 0.1172 - balanced_precision: 0.1389 - balanced_f1_score: 0.1265 - val_loss: 1.8475 - val_categorical_accuracy: 0.4725 - val_balanced_recall: 0.1373 - val_balanced_precision: 0.1614 - val_balanced_f1_score: 0.1477\n",
            "Epoch 6/20\n",
            "350/350 [==============================] - 30s 86ms/step - loss: 2.0593 - categorical_accuracy: 0.4061 - balanced_recall: 0.1230 - balanced_precision: 0.1440 - balanced_f1_score: 0.1319 - val_loss: 1.8189 - val_categorical_accuracy: 0.4784 - val_balanced_recall: 0.1492 - val_balanced_precision: 0.1735 - val_balanced_f1_score: 0.1599\n",
            "Epoch 7/20\n",
            "350/350 [==============================] - 30s 86ms/step - loss: 2.0338 - categorical_accuracy: 0.4166 - balanced_recall: 0.1289 - balanced_precision: 0.1535 - balanced_f1_score: 0.1394 - val_loss: 1.8009 - val_categorical_accuracy: 0.4789 - val_balanced_recall: 0.1530 - val_balanced_precision: 0.1748 - val_balanced_f1_score: 0.1627\n",
            "Epoch 8/20\n",
            "350/350 [==============================] - 30s 86ms/step - loss: 2.0172 - categorical_accuracy: 0.4172 - balanced_recall: 0.1281 - balanced_precision: 0.1528 - balanced_f1_score: 0.1387 - val_loss: 1.7735 - val_categorical_accuracy: 0.4865 - val_balanced_recall: 0.1565 - val_balanced_precision: 0.1818 - val_balanced_f1_score: 0.1677\n",
            "Epoch 9/20\n",
            "350/350 [==============================] - 30s 86ms/step - loss: 1.9919 - categorical_accuracy: 0.4283 - balanced_recall: 0.1340 - balanced_precision: 0.1591 - balanced_f1_score: 0.1447 - val_loss: 1.7554 - val_categorical_accuracy: 0.5004 - val_balanced_recall: 0.1581 - val_balanced_precision: 0.1837 - val_balanced_f1_score: 0.1695\n",
            "Epoch 10/20\n",
            "350/350 [==============================] - 32s 90ms/step - loss: 1.9892 - categorical_accuracy: 0.4309 - balanced_recall: 0.1352 - balanced_precision: 0.1615 - balanced_f1_score: 0.1465 - val_loss: 1.7390 - val_categorical_accuracy: 0.4950 - val_balanced_recall: 0.1581 - val_balanced_precision: 0.1856 - val_balanced_f1_score: 0.1701\n",
            "Epoch 11/20\n",
            "350/350 [==============================] - 29s 84ms/step - loss: 1.9631 - categorical_accuracy: 0.4351 - balanced_recall: 0.1363 - balanced_precision: 0.1634 - balanced_f1_score: 0.1478 - val_loss: 1.7597 - val_categorical_accuracy: 0.4937 - val_balanced_recall: 0.1618 - val_balanced_precision: 0.1884 - val_balanced_f1_score: 0.1736\n",
            "Epoch 12/20\n",
            "350/350 [==============================] - 29s 83ms/step - loss: 1.9579 - categorical_accuracy: 0.4344 - balanced_recall: 0.1399 - balanced_precision: 0.1698 - balanced_f1_score: 0.1526 - val_loss: 1.7334 - val_categorical_accuracy: 0.4910 - val_balanced_recall: 0.1692 - val_balanced_precision: 0.1979 - val_balanced_f1_score: 0.1818\n",
            "Epoch 13/20\n",
            "350/350 [==============================] - 29s 84ms/step - loss: 1.9353 - categorical_accuracy: 0.4393 - balanced_recall: 0.1445 - balanced_precision: 0.1739 - balanced_f1_score: 0.1570 - val_loss: 1.7455 - val_categorical_accuracy: 0.4883 - val_balanced_recall: 0.1676 - val_balanced_precision: 0.1952 - val_balanced_f1_score: 0.1799\n",
            "Epoch 14/20\n",
            "350/350 [==============================] - 30s 85ms/step - loss: 1.9323 - categorical_accuracy: 0.4380 - balanced_recall: 0.1482 - balanced_precision: 0.1767 - balanced_f1_score: 0.1605 - val_loss: 1.7320 - val_categorical_accuracy: 0.4932 - val_balanced_recall: 0.1686 - val_balanced_precision: 0.1994 - val_balanced_f1_score: 0.1822\n",
            "Epoch 15/20\n",
            "350/350 [==============================] - 29s 83ms/step - loss: 1.9288 - categorical_accuracy: 0.4441 - balanced_recall: 0.1481 - balanced_precision: 0.1774 - balanced_f1_score: 0.1607 - val_loss: 1.7160 - val_categorical_accuracy: 0.5042 - val_balanced_recall: 0.1639 - val_balanced_precision: 0.1947 - val_balanced_f1_score: 0.1773\n",
            "Epoch 16/20\n",
            "350/350 [==============================] - 29s 83ms/step - loss: 1.9210 - categorical_accuracy: 0.4407 - balanced_recall: 0.1460 - balanced_precision: 0.1755 - balanced_f1_score: 0.1586 - val_loss: 1.7449 - val_categorical_accuracy: 0.4894 - val_balanced_recall: 0.1692 - val_balanced_precision: 0.1970 - val_balanced_f1_score: 0.1815\n",
            "Epoch 17/20\n",
            "350/350 [==============================] - 29s 84ms/step - loss: 1.9115 - categorical_accuracy: 0.4435 - balanced_recall: 0.1518 - balanced_precision: 0.1806 - balanced_f1_score: 0.1642 - val_loss: 1.7006 - val_categorical_accuracy: 0.5068 - val_balanced_recall: 0.1736 - val_balanced_precision: 0.2041 - val_balanced_f1_score: 0.1872\n",
            "Epoch 18/20\n",
            "350/350 [==============================] - 29s 84ms/step - loss: 1.8995 - categorical_accuracy: 0.4476 - balanced_recall: 0.1537 - balanced_precision: 0.1847 - balanced_f1_score: 0.1670 - val_loss: 1.6954 - val_categorical_accuracy: 0.5082 - val_balanced_recall: 0.1636 - val_balanced_precision: 0.1943 - val_balanced_f1_score: 0.1770\n",
            "Epoch 19/20\n",
            "350/350 [==============================] - 30s 86ms/step - loss: 1.8947 - categorical_accuracy: 0.4489 - balanced_recall: 0.1531 - balanced_precision: 0.1849 - balanced_f1_score: 0.1667 - val_loss: 1.6982 - val_categorical_accuracy: 0.5066 - val_balanced_recall: 0.1747 - val_balanced_precision: 0.2075 - val_balanced_f1_score: 0.1891\n",
            "Epoch 20/20\n",
            "350/350 [==============================] - 31s 88ms/step - loss: 1.8751 - categorical_accuracy: 0.4529 - balanced_recall: 0.1556 - balanced_precision: 0.1855 - balanced_f1_score: 0.1684 - val_loss: 1.7022 - val_categorical_accuracy: 0.5122 - val_balanced_recall: 0.1718 - val_balanced_precision: 0.2046 - val_balanced_f1_score: 0.1862\n"
          ]
        }
      ]
    },
    {
      "cell_type": "code",
      "source": [
        "n_epochs = 20\n",
        "\n",
        "METRICS = [\n",
        "      tf.keras.metrics.CategoricalAccuracy(),\n",
        "      balanced_recall,\n",
        "      balanced_precision,\n",
        "      balanced_f1_score\n",
        "]\n",
        "\n",
        "earlystop_callback = tf.keras.callbacks.EarlyStopping(monitor = \"val_loss\", \n",
        "                                                      patience = 3,\n",
        "                                                      restore_best_weights = True)\n",
        "\n",
        "model.compile(optimizer = \"adam\",\n",
        "              loss = \"categorical_crossentropy\",\n",
        "              metrics = METRICS)\n",
        "\n",
        "model_fit = model.fit(X_train, \n",
        "                      y_train, \n",
        "                      epochs = n_epochs,\n",
        "                      validation_data = (X_test, y_test),\n",
        "                      callbacks = [earlystop_callback])"
      ],
      "metadata": {
        "colab": {
          "base_uri": "https://localhost:8080/"
        },
        "id": "vEpjna0psolT",
        "outputId": "e96034ee-7f77-4e0d-fe4c-3371fb6f1d7d"
      },
      "execution_count": null,
      "outputs": [
        {
          "output_type": "stream",
          "name": "stdout",
          "text": [
            "Epoch 1/20\n",
            "350/350 [==============================] - 221s 594ms/step - loss: 2.9092 - categorical_accuracy: 0.2169 - balanced_recall: 0.0239 - balanced_precision: 0.0283 - balanced_f1_score: 0.0255 - val_loss: 2.4361 - val_categorical_accuracy: 0.3330 - val_balanced_recall: 0.0642 - val_balanced_precision: 0.0741 - val_balanced_f1_score: 0.0682\n",
            "Epoch 2/20\n",
            "350/350 [==============================] - 204s 582ms/step - loss: 2.2968 - categorical_accuracy: 0.3751 - balanced_recall: 0.0820 - balanced_precision: 0.1045 - balanced_f1_score: 0.0911 - val_loss: 2.0562 - val_categorical_accuracy: 0.4577 - val_balanced_recall: 0.1031 - val_balanced_precision: 0.1318 - val_balanced_f1_score: 0.1149\n",
            "Epoch 3/20\n",
            "350/350 [==============================] - 204s 582ms/step - loss: 2.0811 - categorical_accuracy: 0.4210 - balanced_recall: 0.1233 - balanced_precision: 0.1547 - balanced_f1_score: 0.1364 - val_loss: 1.9710 - val_categorical_accuracy: 0.4411 - val_balanced_recall: 0.1373 - val_balanced_precision: 0.1693 - val_balanced_f1_score: 0.1509\n",
            "Epoch 4/20\n",
            "350/350 [==============================] - 203s 581ms/step - loss: 1.9669 - categorical_accuracy: 0.4472 - balanced_recall: 0.1445 - balanced_precision: 0.1806 - balanced_f1_score: 0.1597 - val_loss: 1.8779 - val_categorical_accuracy: 0.4934 - val_balanced_recall: 0.1437 - val_balanced_precision: 0.1751 - val_balanced_f1_score: 0.1571\n",
            "Epoch 5/20\n",
            "350/350 [==============================] - 203s 581ms/step - loss: 1.8974 - categorical_accuracy: 0.4673 - balanced_recall: 0.1571 - balanced_precision: 0.1938 - balanced_f1_score: 0.1727 - val_loss: 1.8182 - val_categorical_accuracy: 0.5025 - val_balanced_recall: 0.1593 - val_balanced_precision: 0.1932 - val_balanced_f1_score: 0.1739\n",
            "Epoch 6/20\n",
            "350/350 [==============================] - 203s 582ms/step - loss: 1.8387 - categorical_accuracy: 0.4834 - balanced_recall: 0.1692 - balanced_precision: 0.2082 - balanced_f1_score: 0.1859 - val_loss: 1.7793 - val_categorical_accuracy: 0.5047 - val_balanced_recall: 0.1743 - val_balanced_precision: 0.2131 - val_balanced_f1_score: 0.1911\n",
            "Epoch 7/20\n",
            "350/350 [==============================] - 203s 581ms/step - loss: 1.7877 - categorical_accuracy: 0.4870 - balanced_recall: 0.1803 - balanced_precision: 0.2221 - balanced_f1_score: 0.1982 - val_loss: 1.7504 - val_categorical_accuracy: 0.5074 - val_balanced_recall: 0.1819 - val_balanced_precision: 0.2207 - val_balanced_f1_score: 0.1987\n",
            "Epoch 8/20\n",
            "350/350 [==============================] - 203s 582ms/step - loss: 1.7522 - categorical_accuracy: 0.5051 - balanced_recall: 0.1882 - balanced_precision: 0.2310 - balanced_f1_score: 0.2065 - val_loss: 1.7327 - val_categorical_accuracy: 0.5055 - val_balanced_recall: 0.1837 - val_balanced_precision: 0.2225 - val_balanced_f1_score: 0.2006\n",
            "Epoch 9/20\n",
            "350/350 [==============================] - 204s 582ms/step - loss: 1.7194 - categorical_accuracy: 0.5084 - balanced_recall: 0.1952 - balanced_precision: 0.2404 - balanced_f1_score: 0.2147 - val_loss: 1.7265 - val_categorical_accuracy: 0.5237 - val_balanced_recall: 0.1871 - val_balanced_precision: 0.2259 - val_balanced_f1_score: 0.2041\n",
            "Epoch 10/20\n",
            "350/350 [==============================] - 204s 582ms/step - loss: 1.6919 - categorical_accuracy: 0.5129 - balanced_recall: 0.1986 - balanced_precision: 0.2422 - balanced_f1_score: 0.2176 - val_loss: 1.6739 - val_categorical_accuracy: 0.5283 - val_balanced_recall: 0.2008 - val_balanced_precision: 0.2403 - val_balanced_f1_score: 0.2181\n",
            "Epoch 11/20\n",
            "350/350 [==============================] - 204s 582ms/step - loss: 1.6711 - categorical_accuracy: 0.5165 - balanced_recall: 0.2065 - balanced_precision: 0.2512 - balanced_f1_score: 0.2260 - val_loss: 1.6468 - val_categorical_accuracy: 0.5482 - val_balanced_recall: 0.2001 - val_balanced_precision: 0.2406 - val_balanced_f1_score: 0.2178\n",
            "Epoch 12/20\n",
            "350/350 [==============================] - 203s 581ms/step - loss: 1.6464 - categorical_accuracy: 0.5257 - balanced_recall: 0.2118 - balanced_precision: 0.2550 - balanced_f1_score: 0.2307 - val_loss: 1.6575 - val_categorical_accuracy: 0.5270 - val_balanced_recall: 0.2052 - val_balanced_precision: 0.2459 - val_balanced_f1_score: 0.2230\n",
            "Epoch 13/20\n",
            "350/350 [==============================] - 204s 582ms/step - loss: 1.6299 - categorical_accuracy: 0.5256 - balanced_recall: 0.2161 - balanced_precision: 0.2613 - balanced_f1_score: 0.2359 - val_loss: 1.6780 - val_categorical_accuracy: 0.5149 - val_balanced_recall: 0.2077 - val_balanced_precision: 0.2476 - val_balanced_f1_score: 0.2251\n",
            "Epoch 14/20\n",
            "350/350 [==============================] - 204s 582ms/step - loss: 1.6020 - categorical_accuracy: 0.5372 - balanced_recall: 0.2205 - balanced_precision: 0.2647 - balanced_f1_score: 0.2398 - val_loss: 1.6191 - val_categorical_accuracy: 0.5498 - val_balanced_recall: 0.2110 - val_balanced_precision: 0.2533 - val_balanced_f1_score: 0.2296\n",
            "Epoch 15/20\n",
            "350/350 [==============================] - 204s 584ms/step - loss: 1.5997 - categorical_accuracy: 0.5353 - balanced_recall: 0.2234 - balanced_precision: 0.2705 - balanced_f1_score: 0.2439 - val_loss: 1.6246 - val_categorical_accuracy: 0.5452 - val_balanced_recall: 0.2096 - val_balanced_precision: 0.2522 - val_balanced_f1_score: 0.2282\n",
            "Epoch 16/20\n",
            "350/350 [==============================] - 206s 589ms/step - loss: 1.5801 - categorical_accuracy: 0.5441 - balanced_recall: 0.2258 - balanced_precision: 0.2718 - balanced_f1_score: 0.2460 - val_loss: 1.6088 - val_categorical_accuracy: 0.5522 - val_balanced_recall: 0.2092 - val_balanced_precision: 0.2537 - val_balanced_f1_score: 0.2286\n",
            "Epoch 17/20\n",
            "350/350 [==============================] - 206s 589ms/step - loss: 1.5653 - categorical_accuracy: 0.5469 - balanced_recall: 0.2314 - balanced_precision: 0.2775 - balanced_f1_score: 0.2516 - val_loss: 1.6151 - val_categorical_accuracy: 0.5506 - val_balanced_recall: 0.2165 - val_balanced_precision: 0.2569 - val_balanced_f1_score: 0.2343\n",
            "Epoch 18/20\n",
            "350/350 [==============================] - 204s 584ms/step - loss: 1.5538 - categorical_accuracy: 0.5475 - balanced_recall: 0.2343 - balanced_precision: 0.2804 - balanced_f1_score: 0.2546 - val_loss: 1.6280 - val_categorical_accuracy: 0.5259 - val_balanced_recall: 0.2216 - val_balanced_precision: 0.2625 - val_balanced_f1_score: 0.2397\n",
            "Epoch 19/20\n",
            "350/350 [==============================] - 204s 583ms/step - loss: 1.5370 - categorical_accuracy: 0.5496 - balanced_recall: 0.2328 - balanced_precision: 0.2806 - balanced_f1_score: 0.2538 - val_loss: 1.6471 - val_categorical_accuracy: 0.5208 - val_balanced_recall: 0.2208 - val_balanced_precision: 0.2598 - val_balanced_f1_score: 0.2381\n"
          ]
        }
      ]
    },
    {
      "cell_type": "code",
      "source": [
        "n_epochs = 5\n",
        "\n",
        "METRICS = [\n",
        "      tf.keras.metrics.CategoricalAccuracy(),\n",
        "      balanced_recall,\n",
        "      balanced_precision,\n",
        "      balanced_f1_score\n",
        "]\n",
        "\n",
        "earlystop_callback = tf.keras.callbacks.EarlyStopping(monitor = \"val_loss\", \n",
        "                                                      patience = 3,\n",
        "                                                      restore_best_weights = True)\n",
        "\n",
        "model.compile(optimizer = \"adam\",\n",
        "              loss = \"categorical_crossentropy\",\n",
        "              metrics = METRICS)\n",
        "\n",
        "model_fit = model.fit(X_train, \n",
        "                      y_train, \n",
        "                      epochs = n_epochs,\n",
        "                      validation_data = (X_test, y_test),\n",
        "                      callbacks = [earlystop_callback])"
      ],
      "metadata": {
        "colab": {
          "base_uri": "https://localhost:8080/"
        },
        "id": "1jv26zxISEzd",
        "outputId": "b4684512-9f16-40c4-9df9-203c5711a353"
      },
      "execution_count": null,
      "outputs": [
        {
          "output_type": "stream",
          "name": "stdout",
          "text": [
            "Epoch 1/5\n",
            "3049/3049 [==============================] - 439s 143ms/step - loss: 1.1225 - categorical_accuracy: 0.6408 - balanced_recall: 0.3702 - balanced_precision: 0.4679 - balanced_f1_score: 0.4112 - val_loss: 1.0096 - val_categorical_accuracy: 0.6750 - val_balanced_recall: 0.4059 - val_balanced_precision: 0.4967 - val_balanced_f1_score: 0.4450\n",
            "Epoch 2/5\n",
            "3049/3049 [==============================] - 437s 143ms/step - loss: 1.0816 - categorical_accuracy: 0.6536 - balanced_recall: 0.3863 - balanced_precision: 0.4835 - balanced_f1_score: 0.4274 - val_loss: 0.9880 - val_categorical_accuracy: 0.6838 - val_balanced_recall: 0.4140 - val_balanced_precision: 0.5037 - val_balanced_f1_score: 0.4526\n",
            "Epoch 3/5\n",
            "3049/3049 [==============================] - 439s 144ms/step - loss: 1.0574 - categorical_accuracy: 0.6599 - balanced_recall: 0.3953 - balanced_precision: 0.4924 - balanced_f1_score: 0.4366 - val_loss: 0.9749 - val_categorical_accuracy: 0.6881 - val_balanced_recall: 0.4158 - val_balanced_precision: 0.5118 - val_balanced_f1_score: 0.4570\n",
            "Epoch 4/5\n",
            "3049/3049 [==============================] - 436s 143ms/step - loss: 1.0484 - categorical_accuracy: 0.6622 - balanced_recall: 0.4011 - balanced_precision: 0.4982 - balanced_f1_score: 0.4424 - val_loss: 0.9910 - val_categorical_accuracy: 0.6820 - val_balanced_recall: 0.4181 - val_balanced_precision: 0.5216 - val_balanced_f1_score: 0.4622\n",
            "Epoch 5/5\n",
            "3049/3049 [==============================] - 433s 142ms/step - loss: 1.0393 - categorical_accuracy: 0.6650 - balanced_recall: 0.4041 - balanced_precision: 0.5007 - balanced_f1_score: 0.4453 - val_loss: 0.9590 - val_categorical_accuracy: 0.6927 - val_balanced_recall: 0.4263 - val_balanced_precision: 0.5280 - val_balanced_f1_score: 0.4697\n"
          ]
        }
      ]
    },
    {
      "cell_type": "code",
      "source": [
        "model.save(\"/content/drive/MyDrive/nlp/bert_classifier_breaking_news\")"
      ],
      "metadata": {
        "colab": {
          "base_uri": "https://localhost:8080/"
        },
        "id": "ApQjffNCUTY2",
        "outputId": "855b4d1b-3c62-4fe2-d8eb-fa39ad2f0e0e"
      },
      "execution_count": null,
      "outputs": [
        {
          "output_type": "stream",
          "name": "stderr",
          "text": [
            "WARNING:absl:Found untraced functions such as restored_function_body, restored_function_body, restored_function_body, restored_function_body, restored_function_body while saving (showing 5 of 124). These functions will not be directly callable after loading.\n"
          ]
        }
      ]
    }
  ]
}