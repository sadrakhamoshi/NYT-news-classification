{
  "nbformat": 4,
  "nbformat_minor": 0,
  "metadata": {
    "colab": {
      "name": "FinalPhase.ipynb",
      "provenance": [],
      "collapsed_sections": [
        "yyWGdUxL8W4g"
      ],
      "toc_visible": true
    },
    "kernelspec": {
      "name": "python3",
      "display_name": "Python 3"
    },
    "language_info": {
      "name": "python"
    },
    "gpuClass": "standard",
    "accelerator": "GPU"
  },
  "cells": [
    {
      "cell_type": "markdown",
      "source": [
        "# imports"
      ],
      "metadata": {
        "id": "Ijj51HSiiWrQ"
      }
    },
    {
      "cell_type": "code",
      "source": [
        "import pandas as pd\n",
        "import numpy as np\n",
        "import matplotlib.pyplot as plt\n",
        "import tensorflow_datasets as tfds\n",
        "import tensorflow as tf\n",
        "from tensorflow import keras\n",
        "from sklearn.utils import shuffle\n",
        "from sklearn.model_selection import train_test_split\n",
        "!pip install plot-keras-history\n",
        "from keras.preprocessing.text import Tokenizer\n",
        "from keras.preprocessing.sequence import pad_sequences\n",
        "from keras.models import Sequential\n",
        "import seaborn as sns\n",
        "from keras.layers import Dense, Embedding, LSTM, SpatialDropout1D\n",
        "from plot_keras_history import plot_history\n",
        "from sklearn.metrics import confusion_matrix"
      ],
      "metadata": {
        "id": "jonu2vJjiY0N",
        "colab": {
          "base_uri": "https://localhost:8080/"
        },
        "outputId": "c21a44ba-3d27-4915-cdd6-03bd59c3db00"
      },
      "execution_count": 1,
      "outputs": [
        {
          "output_type": "stream",
          "name": "stdout",
          "text": [
            "Looking in indexes: https://pypi.org/simple, https://us-python.pkg.dev/colab-wheels/public/simple/\n",
            "Collecting plot-keras-history\n",
            "  Downloading plot_keras_history-1.1.36.tar.gz (9.1 kB)\n",
            "Requirement already satisfied: matplotlib in /usr/local/lib/python3.7/dist-packages (from plot-keras-history) (3.2.2)\n",
            "Requirement already satisfied: pandas in /usr/local/lib/python3.7/dist-packages (from plot-keras-history) (1.3.5)\n",
            "Requirement already satisfied: scipy in /usr/local/lib/python3.7/dist-packages (from plot-keras-history) (1.4.1)\n",
            "Collecting sanitize_ml_labels>=1.0.33\n",
            "  Downloading sanitize_ml_labels-1.0.43.tar.gz (321 kB)\n",
            "\u001b[K     |████████████████████████████████| 321 kB 19.4 MB/s \n",
            "\u001b[?25hCollecting compress_json\n",
            "  Downloading compress_json-1.0.7.tar.gz (5.4 kB)\n",
            "Requirement already satisfied: pyparsing!=2.0.4,!=2.1.2,!=2.1.6,>=2.0.1 in /usr/local/lib/python3.7/dist-packages (from matplotlib->plot-keras-history) (3.0.9)\n",
            "Requirement already satisfied: python-dateutil>=2.1 in /usr/local/lib/python3.7/dist-packages (from matplotlib->plot-keras-history) (2.8.2)\n",
            "Requirement already satisfied: numpy>=1.11 in /usr/local/lib/python3.7/dist-packages (from matplotlib->plot-keras-history) (1.21.6)\n",
            "Requirement already satisfied: cycler>=0.10 in /usr/local/lib/python3.7/dist-packages (from matplotlib->plot-keras-history) (0.11.0)\n",
            "Requirement already satisfied: kiwisolver>=1.0.1 in /usr/local/lib/python3.7/dist-packages (from matplotlib->plot-keras-history) (1.4.3)\n",
            "Requirement already satisfied: typing-extensions in /usr/local/lib/python3.7/dist-packages (from kiwisolver>=1.0.1->matplotlib->plot-keras-history) (4.1.1)\n",
            "Requirement already satisfied: six>=1.5 in /usr/local/lib/python3.7/dist-packages (from python-dateutil>=2.1->matplotlib->plot-keras-history) (1.15.0)\n",
            "Requirement already satisfied: pytz>=2017.3 in /usr/local/lib/python3.7/dist-packages (from pandas->plot-keras-history) (2022.1)\n",
            "Building wheels for collected packages: plot-keras-history, sanitize-ml-labels, compress-json\n",
            "  Building wheel for plot-keras-history (setup.py) ... \u001b[?25l\u001b[?25hdone\n",
            "  Created wheel for plot-keras-history: filename=plot_keras_history-1.1.36-py3-none-any.whl size=9236 sha256=9aaa93db1316ae4fa455f4ef5604d1f258c084b3f01f4429275d4c62455ce77e\n",
            "  Stored in directory: /root/.cache/pip/wheels/ca/73/ed/41022b42c1d9ce60a8a2ebb71f042c7f895673760404d39fd7\n",
            "  Building wheel for sanitize-ml-labels (setup.py) ... \u001b[?25l\u001b[?25hdone\n",
            "  Created wheel for sanitize-ml-labels: filename=sanitize_ml_labels-1.0.43-py3-none-any.whl size=319231 sha256=f63ba1783e7cb1237c27208287050bbbfb96a998c18c80910c0e0835e1f0e706\n",
            "  Stored in directory: /root/.cache/pip/wheels/71/d5/dd/d4893fffb9dcb9494de70478ab9728ae5d105f7d849a90e81a\n",
            "  Building wheel for compress-json (setup.py) ... \u001b[?25l\u001b[?25hdone\n",
            "  Created wheel for compress-json: filename=compress_json-1.0.7-py3-none-any.whl size=5233 sha256=a0ef9eff4fa5448e67ebe705d335a567a7eb57db3a1b3626d265e62e8a4e1ae2\n",
            "  Stored in directory: /root/.cache/pip/wheels/6d/7e/13/0e370d719528969d430498ca952417324595d116776840b279\n",
            "Successfully built plot-keras-history sanitize-ml-labels compress-json\n",
            "Installing collected packages: compress-json, sanitize-ml-labels, plot-keras-history\n",
            "Successfully installed compress-json-1.0.7 plot-keras-history-1.1.36 sanitize-ml-labels-1.0.43\n"
          ]
        }
      ]
    },
    {
      "cell_type": "code",
      "source": [
        "a = [1,2,3,4]\n",
        "b = [8,7,6,5]\n",
        "f, x = shuffle(a, b)\n",
        "f, x"
      ],
      "metadata": {
        "colab": {
          "base_uri": "https://localhost:8080/"
        },
        "id": "uwALF1zM_IyC",
        "outputId": "ecb9fec8-591a-4ecb-ec27-42832162189c"
      },
      "execution_count": null,
      "outputs": [
        {
          "output_type": "execute_result",
          "data": {
            "text/plain": [
              "([3, 1, 4, 2], [6, 8, 5, 7])"
            ]
          },
          "metadata": {},
          "execution_count": 27
        }
      ]
    },
    {
      "cell_type": "code",
      "source": [
        "from google.colab import drive\n",
        "drive.mount('/content/drive')"
      ],
      "metadata": {
        "id": "yADuwwVCiuuR",
        "colab": {
          "base_uri": "https://localhost:8080/"
        },
        "outputId": "f0eb9b4b-aebd-46a7-d408-0bb893d66e80"
      },
      "execution_count": 2,
      "outputs": [
        {
          "output_type": "stream",
          "name": "stdout",
          "text": [
            "Drive already mounted at /content/drive; to attempt to forcibly remount, call drive.mount(\"/content/drive\", force_remount=True).\n"
          ]
        }
      ]
    },
    {
      "cell_type": "markdown",
      "source": [
        "# Load Data"
      ],
      "metadata": {
        "id": "sh8ZLOJ8iSfU"
      }
    },
    {
      "cell_type": "markdown",
      "source": [
        "## NYT news Data"
      ],
      "metadata": {
        "id": "8hbI7vQAErOP"
      }
    },
    {
      "cell_type": "markdown",
      "source": [
        "In this cell we try to use the data which we prepared in previos phase of project. it is an news dataset from New York Times news different section."
      ],
      "metadata": {
        "id": "pwptOIbtGUOo"
      }
    },
    {
      "cell_type": "code",
      "source": [
        "nyt_data_path = '/content/drive/MyDrive/nlp/cleaned_news.csv'\n",
        "\n",
        "df = pd.read_csv(nyt_data_path)\n",
        "df.head()"
      ],
      "metadata": {
        "colab": {
          "base_uri": "https://localhost:8080/",
          "height": 206
        },
        "id": "7GOcPtTeE2vc",
        "outputId": "cdf3bd36-3038-4ec5-dcf4-20636efa8bad"
      },
      "execution_count": 12,
      "outputs": [
        {
          "output_type": "execute_result",
          "data": {
            "text/plain": [
              "                                                news    category\n",
              "0  people microdosing mental health work scientis...        well\n",
              "1  new versatile power suit whether doublebreaste...  t magazine\n",
              "2  background suspect buffalo shooting appears pa...        u.s.\n",
              "3  savannah home meld georgian architecture flair...  t magazine\n",
              "4  alzheimer disease marriage amy bloom midlife l...       books"
            ],
            "text/html": [
              "\n",
              "  <div id=\"df-fbb2d042-615d-491e-8d92-64e86eafdb26\">\n",
              "    <div class=\"colab-df-container\">\n",
              "      <div>\n",
              "<style scoped>\n",
              "    .dataframe tbody tr th:only-of-type {\n",
              "        vertical-align: middle;\n",
              "    }\n",
              "\n",
              "    .dataframe tbody tr th {\n",
              "        vertical-align: top;\n",
              "    }\n",
              "\n",
              "    .dataframe thead th {\n",
              "        text-align: right;\n",
              "    }\n",
              "</style>\n",
              "<table border=\"1\" class=\"dataframe\">\n",
              "  <thead>\n",
              "    <tr style=\"text-align: right;\">\n",
              "      <th></th>\n",
              "      <th>news</th>\n",
              "      <th>category</th>\n",
              "    </tr>\n",
              "  </thead>\n",
              "  <tbody>\n",
              "    <tr>\n",
              "      <th>0</th>\n",
              "      <td>people microdosing mental health work scientis...</td>\n",
              "      <td>well</td>\n",
              "    </tr>\n",
              "    <tr>\n",
              "      <th>1</th>\n",
              "      <td>new versatile power suit whether doublebreaste...</td>\n",
              "      <td>t magazine</td>\n",
              "    </tr>\n",
              "    <tr>\n",
              "      <th>2</th>\n",
              "      <td>background suspect buffalo shooting appears pa...</td>\n",
              "      <td>u.s.</td>\n",
              "    </tr>\n",
              "    <tr>\n",
              "      <th>3</th>\n",
              "      <td>savannah home meld georgian architecture flair...</td>\n",
              "      <td>t magazine</td>\n",
              "    </tr>\n",
              "    <tr>\n",
              "      <th>4</th>\n",
              "      <td>alzheimer disease marriage amy bloom midlife l...</td>\n",
              "      <td>books</td>\n",
              "    </tr>\n",
              "  </tbody>\n",
              "</table>\n",
              "</div>\n",
              "      <button class=\"colab-df-convert\" onclick=\"convertToInteractive('df-fbb2d042-615d-491e-8d92-64e86eafdb26')\"\n",
              "              title=\"Convert this dataframe to an interactive table.\"\n",
              "              style=\"display:none;\">\n",
              "        \n",
              "  <svg xmlns=\"http://www.w3.org/2000/svg\" height=\"24px\"viewBox=\"0 0 24 24\"\n",
              "       width=\"24px\">\n",
              "    <path d=\"M0 0h24v24H0V0z\" fill=\"none\"/>\n",
              "    <path d=\"M18.56 5.44l.94 2.06.94-2.06 2.06-.94-2.06-.94-.94-2.06-.94 2.06-2.06.94zm-11 1L8.5 8.5l.94-2.06 2.06-.94-2.06-.94L8.5 2.5l-.94 2.06-2.06.94zm10 10l.94 2.06.94-2.06 2.06-.94-2.06-.94-.94-2.06-.94 2.06-2.06.94z\"/><path d=\"M17.41 7.96l-1.37-1.37c-.4-.4-.92-.59-1.43-.59-.52 0-1.04.2-1.43.59L10.3 9.45l-7.72 7.72c-.78.78-.78 2.05 0 2.83L4 21.41c.39.39.9.59 1.41.59.51 0 1.02-.2 1.41-.59l7.78-7.78 2.81-2.81c.8-.78.8-2.07 0-2.86zM5.41 20L4 18.59l7.72-7.72 1.47 1.35L5.41 20z\"/>\n",
              "  </svg>\n",
              "      </button>\n",
              "      \n",
              "  <style>\n",
              "    .colab-df-container {\n",
              "      display:flex;\n",
              "      flex-wrap:wrap;\n",
              "      gap: 12px;\n",
              "    }\n",
              "\n",
              "    .colab-df-convert {\n",
              "      background-color: #E8F0FE;\n",
              "      border: none;\n",
              "      border-radius: 50%;\n",
              "      cursor: pointer;\n",
              "      display: none;\n",
              "      fill: #1967D2;\n",
              "      height: 32px;\n",
              "      padding: 0 0 0 0;\n",
              "      width: 32px;\n",
              "    }\n",
              "\n",
              "    .colab-df-convert:hover {\n",
              "      background-color: #E2EBFA;\n",
              "      box-shadow: 0px 1px 2px rgba(60, 64, 67, 0.3), 0px 1px 3px 1px rgba(60, 64, 67, 0.15);\n",
              "      fill: #174EA6;\n",
              "    }\n",
              "\n",
              "    [theme=dark] .colab-df-convert {\n",
              "      background-color: #3B4455;\n",
              "      fill: #D2E3FC;\n",
              "    }\n",
              "\n",
              "    [theme=dark] .colab-df-convert:hover {\n",
              "      background-color: #434B5C;\n",
              "      box-shadow: 0px 1px 3px 1px rgba(0, 0, 0, 0.15);\n",
              "      filter: drop-shadow(0px 1px 2px rgba(0, 0, 0, 0.3));\n",
              "      fill: #FFFFFF;\n",
              "    }\n",
              "  </style>\n",
              "\n",
              "      <script>\n",
              "        const buttonEl =\n",
              "          document.querySelector('#df-fbb2d042-615d-491e-8d92-64e86eafdb26 button.colab-df-convert');\n",
              "        buttonEl.style.display =\n",
              "          google.colab.kernel.accessAllowed ? 'block' : 'none';\n",
              "\n",
              "        async function convertToInteractive(key) {\n",
              "          const element = document.querySelector('#df-fbb2d042-615d-491e-8d92-64e86eafdb26');\n",
              "          const dataTable =\n",
              "            await google.colab.kernel.invokeFunction('convertToInteractive',\n",
              "                                                     [key], {});\n",
              "          if (!dataTable) return;\n",
              "\n",
              "          const docLinkHtml = 'Like what you see? Visit the ' +\n",
              "            '<a target=\"_blank\" href=https://colab.research.google.com/notebooks/data_table.ipynb>data table notebook</a>'\n",
              "            + ' to learn more about interactive tables.';\n",
              "          element.innerHTML = '';\n",
              "          dataTable['output_type'] = 'display_data';\n",
              "          await google.colab.output.renderOutput(dataTable, element);\n",
              "          const docLink = document.createElement('div');\n",
              "          docLink.innerHTML = docLinkHtml;\n",
              "          element.appendChild(docLink);\n",
              "        }\n",
              "      </script>\n",
              "    </div>\n",
              "  </div>\n",
              "  "
            ]
          },
          "metadata": {},
          "execution_count": 12
        }
      ]
    },
    {
      "cell_type": "code",
      "source": [
        "nyt_news = df['news'].values\n",
        "nyt_cat = df['category'].values\n",
        "nyt_news.shape, nyt_cat.shape"
      ],
      "metadata": {
        "colab": {
          "base_uri": "https://localhost:8080/"
        },
        "id": "9m4ewDnUXYk8",
        "outputId": "ad7c41ef-7a7e-4e72-e5e6-a86a625f289a"
      },
      "execution_count": 13,
      "outputs": [
        {
          "output_type": "execute_result",
          "data": {
            "text/plain": [
              "((14905,), (14905,))"
            ]
          },
          "metadata": {},
          "execution_count": 13
        }
      ]
    },
    {
      "cell_type": "code",
      "source": [
        "nyt_category_str = np.unique(nyt_cat)\n",
        "cat_to_index = {val:idx for idx, val in enumerate(nyt_category_str)}\n",
        "NYT_CLASS_NUMBERS = len(nyt_category_str)\n",
        "print(cat_to_index), len(nyt_category_str)"
      ],
      "metadata": {
        "colab": {
          "base_uri": "https://localhost:8080/"
        },
        "id": "dXGNy16rXzy1",
        "outputId": "c80dc410-b140-4713-e40d-f42feecac7e8"
      },
      "execution_count": 14,
      "outputs": [
        {
          "output_type": "stream",
          "name": "stdout",
          "text": [
            "{'arts': 0, 'books': 1, 'briefing': 2, 'business': 3, 'climate': 4, 'corrections': 5, 'en español': 6, 'fashion': 7, 'food': 8, 'health': 9, 'magazine': 10, 'movies': 11, 'new york': 12, 'obituaries': 13, 'opinion': 14, 'parenting': 15, 'podcasts': 16, 'real estate': 17, 'science': 18, 'sports': 19, 'style': 20, 't magazine': 21, 'technology': 22, 'the learning network': 23, 'the upshot': 24, 'theater': 25, 'times insider': 26, 'today’s paper': 27, 'travel': 28, 'u.s.': 29, 'well': 30, 'world': 31, 'your money': 32}\n"
          ]
        },
        {
          "output_type": "execute_result",
          "data": {
            "text/plain": [
              "(None, 33)"
            ]
          },
          "metadata": {},
          "execution_count": 14
        }
      ]
    },
    {
      "cell_type": "code",
      "source": [
        "nyt_y = np.array([cat_to_index.get(key) for key in nyt_cat])\n",
        "nyt_y.shape "
      ],
      "metadata": {
        "colab": {
          "base_uri": "https://localhost:8080/"
        },
        "id": "nza44BB4Zt1H",
        "outputId": "f29df8e1-e48d-462e-f8ad-db97e94a45d9"
      },
      "execution_count": 15,
      "outputs": [
        {
          "output_type": "execute_result",
          "data": {
            "text/plain": [
              "(14905,)"
            ]
          },
          "metadata": {},
          "execution_count": 15
        }
      ]
    },
    {
      "cell_type": "code",
      "source": [
        "np.unique(nyt_y)"
      ],
      "metadata": {
        "colab": {
          "base_uri": "https://localhost:8080/"
        },
        "id": "kny09XmCeqei",
        "outputId": "b53cb0cc-9187-41f1-caff-9d00481187ad"
      },
      "execution_count": null,
      "outputs": [
        {
          "output_type": "execute_result",
          "data": {
            "text/plain": [
              "array([ 0,  1,  2,  3,  4,  5,  6,  7,  8,  9, 10, 11, 12, 13, 14, 15, 16,\n",
              "       17, 18, 19, 20, 21, 22, 23, 24, 25, 26, 27, 28, 29, 30, 31, 32])"
            ]
          },
          "metadata": {},
          "execution_count": 28
        }
      ]
    },
    {
      "cell_type": "markdown",
      "source": [
        "` DATA Visualization `"
      ],
      "metadata": {
        "id": "WdKOHVYH3Tkx"
      }
    },
    {
      "cell_type": "code",
      "source": [
        "plt.figure(figsize=(14,8))\n",
        "count = df.category.value_counts()\n",
        "sns.barplot(x=count.index, y=count)\n",
        "plt.xlabel('Category')\n",
        "plt.ylabel('Count')\n",
        "plt.xticks(rotation=90);"
      ],
      "metadata": {
        "colab": {
          "base_uri": "https://localhost:8080/",
          "height": 591
        },
        "id": "EfxqVeF45UfT",
        "outputId": "611a6878-fd3c-4946-db77-5971c44759f1"
      },
      "execution_count": null,
      "outputs": [
        {
          "output_type": "display_data",
          "data": {
            "text/plain": [
              "<Figure size 1008x576 with 1 Axes>"
            ],
            "image/png": "[encoded data removed]"
          },
          "metadata": {
            "needs_background": "light"
          }
        }
      ]
    },
    {
      "cell_type": "code",
      "source": [
        "## The maximum number of words to be used. (most frequent)\n",
        "MAX_NB_WORDS = 20000\n",
        "\n",
        "## Max number of words in each complaint.\n",
        "MAX_SEQUENCE_LENGTH = 150\n",
        "\n",
        "## This is fixed.\n",
        "EMBEDDING_DIM = 100\n",
        "\n",
        "\n",
        "tokenizer = Tokenizer(num_words=MAX_NB_WORDS, filters='!\"#$%&()*+,-./:;<=>?@[\\]^_`{|}~', lower=True)\n",
        "# tokenizer.fit_on_texts(news_con)\n",
        "\n",
        "## for nyt\n",
        "tokenizer.fit_on_texts(nyt_news)\n",
        "\n",
        "word_index = tokenizer.word_index\n",
        "print('Found %s unique tokens.' % len(word_index))"
      ],
      "metadata": {
        "colab": {
          "base_uri": "https://localhost:8080/"
        },
        "id": "hbyVWoQ68uuO",
        "outputId": "d1ffced4-c53a-4af9-d3f8-9496a2b83ba6"
      },
      "execution_count": 16,
      "outputs": [
        {
          "output_type": "stream",
          "name": "stdout",
          "text": [
            "Found 29160 unique tokens.\n"
          ]
        }
      ]
    },
    {
      "cell_type": "code",
      "source": [
        "## for NYT\n",
        "X = tokenizer.texts_to_sequences(nyt_news)\n",
        "\n",
        "X = pad_sequences(X, maxlen=MAX_SEQUENCE_LENGTH)\n",
        "\n",
        "## NYT\n",
        "y = tf.keras.utils.to_categorical(nyt_y)\n",
        "\n",
        "print('Shape of data input tensor:', X.shape)\n",
        "print('Shape of target class tensor:', y.shape)"
      ],
      "metadata": {
        "colab": {
          "base_uri": "https://localhost:8080/"
        },
        "id": "NEPq3UZE82GL",
        "outputId": "a312fd59-f06c-4639-e99a-c04eb785a7b2"
      },
      "execution_count": 17,
      "outputs": [
        {
          "output_type": "stream",
          "name": "stdout",
          "text": [
            "Shape of data input tensor: (14905, 150)\n",
            "Shape of target class tensor: (14905, 33)\n"
          ]
        }
      ]
    },
    {
      "cell_type": "markdown",
      "source": [
        "## Ag News"
      ],
      "metadata": {
        "id": "yyWGdUxL8W4g"
      }
    },
    {
      "cell_type": "markdown",
      "source": [
        "This cell is for using AG news which you can find it data in [kaggle](https://www.kaggle.com/datasets/amananandrai/ag-news-classification-dataset)."
      ],
      "metadata": {
        "id": "wgu5mxivFXvz"
      }
    },
    {
      "cell_type": "code",
      "execution_count": 3,
      "metadata": {
        "colab": {
          "base_uri": "https://localhost:8080/",
          "height": 206
        },
        "id": "hwbWbDqfiRpw",
        "outputId": "8eb69695-95ce-4423-88cc-cf535ed561f7"
      },
      "outputs": [
        {
          "output_type": "execute_result",
          "data": {
            "text/plain": [
              "   Unnamed: 0                                        description  category\n",
              "0           0  reuters shortsellers wall street dwindlingband...         3\n",
              "1           1  reuters private investment firm carlyle groupw...         3\n",
              "2           2  reuters soaring crude price plus worriesabout ...         3\n",
              "3           3  reuters authority halted oil exportflows main ...         3\n",
              "4           4  afp tearaway world oil price toppling record s...         3"
            ],
            "text/html": [
              "\n",
              "  <div id=\"df-c7fa4af8-0cac-4026-8dde-1b7d1e62db4c\">\n",
              "    <div class=\"colab-df-container\">\n",
              "      <div>\n",
              "<style scoped>\n",
              "    .dataframe tbody tr th:only-of-type {\n",
              "        vertical-align: middle;\n",
              "    }\n",
              "\n",
              "    .dataframe tbody tr th {\n",
              "        vertical-align: top;\n",
              "    }\n",
              "\n",
              "    .dataframe thead th {\n",
              "        text-align: right;\n",
              "    }\n",
              "</style>\n",
              "<table border=\"1\" class=\"dataframe\">\n",
              "  <thead>\n",
              "    <tr style=\"text-align: right;\">\n",
              "      <th></th>\n",
              "      <th>Unnamed: 0</th>\n",
              "      <th>description</th>\n",
              "      <th>category</th>\n",
              "    </tr>\n",
              "  </thead>\n",
              "  <tbody>\n",
              "    <tr>\n",
              "      <th>0</th>\n",
              "      <td>0</td>\n",
              "      <td>reuters shortsellers wall street dwindlingband...</td>\n",
              "      <td>3</td>\n",
              "    </tr>\n",
              "    <tr>\n",
              "      <th>1</th>\n",
              "      <td>1</td>\n",
              "      <td>reuters private investment firm carlyle groupw...</td>\n",
              "      <td>3</td>\n",
              "    </tr>\n",
              "    <tr>\n",
              "      <th>2</th>\n",
              "      <td>2</td>\n",
              "      <td>reuters soaring crude price plus worriesabout ...</td>\n",
              "      <td>3</td>\n",
              "    </tr>\n",
              "    <tr>\n",
              "      <th>3</th>\n",
              "      <td>3</td>\n",
              "      <td>reuters authority halted oil exportflows main ...</td>\n",
              "      <td>3</td>\n",
              "    </tr>\n",
              "    <tr>\n",
              "      <th>4</th>\n",
              "      <td>4</td>\n",
              "      <td>afp tearaway world oil price toppling record s...</td>\n",
              "      <td>3</td>\n",
              "    </tr>\n",
              "  </tbody>\n",
              "</table>\n",
              "</div>\n",
              "      <button class=\"colab-df-convert\" onclick=\"convertToInteractive('df-c7fa4af8-0cac-4026-8dde-1b7d1e62db4c')\"\n",
              "              title=\"Convert this dataframe to an interactive table.\"\n",
              "              style=\"display:none;\">\n",
              "        \n",
              "  <svg xmlns=\"http://www.w3.org/2000/svg\" height=\"24px\"viewBox=\"0 0 24 24\"\n",
              "       width=\"24px\">\n",
              "    <path d=\"M0 0h24v24H0V0z\" fill=\"none\"/>\n",
              "    <path d=\"M18.56 5.44l.94 2.06.94-2.06 2.06-.94-2.06-.94-.94-2.06-.94 2.06-2.06.94zm-11 1L8.5 8.5l.94-2.06 2.06-.94-2.06-.94L8.5 2.5l-.94 2.06-2.06.94zm10 10l.94 2.06.94-2.06 2.06-.94-2.06-.94-.94-2.06-.94 2.06-2.06.94z\"/><path d=\"M17.41 7.96l-1.37-1.37c-.4-.4-.92-.59-1.43-.59-.52 0-1.04.2-1.43.59L10.3 9.45l-7.72 7.72c-.78.78-.78 2.05 0 2.83L4 21.41c.39.39.9.59 1.41.59.51 0 1.02-.2 1.41-.59l7.78-7.78 2.81-2.81c.8-.78.8-2.07 0-2.86zM5.41 20L4 18.59l7.72-7.72 1.47 1.35L5.41 20z\"/>\n",
              "  </svg>\n",
              "      </button>\n",
              "      \n",
              "  <style>\n",
              "    .colab-df-container {\n",
              "      display:flex;\n",
              "      flex-wrap:wrap;\n",
              "      gap: 12px;\n",
              "    }\n",
              "\n",
              "    .colab-df-convert {\n",
              "      background-color: #E8F0FE;\n",
              "      border: none;\n",
              "      border-radius: 50%;\n",
              "      cursor: pointer;\n",
              "      display: none;\n",
              "      fill: #1967D2;\n",
              "      height: 32px;\n",
              "      padding: 0 0 0 0;\n",
              "      width: 32px;\n",
              "    }\n",
              "\n",
              "    .colab-df-convert:hover {\n",
              "      background-color: #E2EBFA;\n",
              "      box-shadow: 0px 1px 2px rgba(60, 64, 67, 0.3), 0px 1px 3px 1px rgba(60, 64, 67, 0.15);\n",
              "      fill: #174EA6;\n",
              "    }\n",
              "\n",
              "    [theme=dark] .colab-df-convert {\n",
              "      background-color: #3B4455;\n",
              "      fill: #D2E3FC;\n",
              "    }\n",
              "\n",
              "    [theme=dark] .colab-df-convert:hover {\n",
              "      background-color: #434B5C;\n",
              "      box-shadow: 0px 1px 3px 1px rgba(0, 0, 0, 0.15);\n",
              "      filter: drop-shadow(0px 1px 2px rgba(0, 0, 0, 0.3));\n",
              "      fill: #FFFFFF;\n",
              "    }\n",
              "  </style>\n",
              "\n",
              "      <script>\n",
              "        const buttonEl =\n",
              "          document.querySelector('#df-c7fa4af8-0cac-4026-8dde-1b7d1e62db4c button.colab-df-convert');\n",
              "        buttonEl.style.display =\n",
              "          google.colab.kernel.accessAllowed ? 'block' : 'none';\n",
              "\n",
              "        async function convertToInteractive(key) {\n",
              "          const element = document.querySelector('#df-c7fa4af8-0cac-4026-8dde-1b7d1e62db4c');\n",
              "          const dataTable =\n",
              "            await google.colab.kernel.invokeFunction('convertToInteractive',\n",
              "                                                     [key], {});\n",
              "          if (!dataTable) return;\n",
              "\n",
              "          const docLinkHtml = 'Like what you see? Visit the ' +\n",
              "            '<a target=\"_blank\" href=https://colab.research.google.com/notebooks/data_table.ipynb>data table notebook</a>'\n",
              "            + ' to learn more about interactive tables.';\n",
              "          element.innerHTML = '';\n",
              "          dataTable['output_type'] = 'display_data';\n",
              "          await google.colab.output.renderOutput(dataTable, element);\n",
              "          const docLink = document.createElement('div');\n",
              "          docLink.innerHTML = docLinkHtml;\n",
              "          element.appendChild(docLink);\n",
              "        }\n",
              "      </script>\n",
              "    </div>\n",
              "  </div>\n",
              "  "
            ]
          },
          "metadata": {},
          "execution_count": 3
        }
      ],
      "source": [
        "TRAIN_DATA_PATH = '/content/drive/MyDrive/Ag_news_dataset/cleaned_train_data.csv'\n",
        "TEST_DATA_PATH = '/content/drive/MyDrive/Ag_news_dataset/cleaned_test_data.csv'\n",
        "\n",
        "df = pd.read_csv(TRAIN_DATA_PATH)\n",
        "df_test = pd.read_csv(TEST_DATA_PATH)\n",
        "df.head()"
      ]
    },
    {
      "cell_type": "markdown",
      "source": [
        "we seperate the content of the news and it's category."
      ],
      "metadata": {
        "id": "qvpYs9q2Hkkb"
      }
    },
    {
      "cell_type": "code",
      "source": [
        "news_train = df['description'].tolist()\n",
        "news_test = df_test['description'].tolist()\n",
        "\n",
        "categories_train = df['category'].tolist()\n",
        "categories_test = df_test['category'].tolist()\n",
        "\n",
        "print(len(news_train), len(news_test))\n",
        "print(len(categories_train), len(categories_test))\n"
      ],
      "metadata": {
        "colab": {
          "base_uri": "https://localhost:8080/"
        },
        "id": "AOt-sRF_jMOJ",
        "outputId": "9c6467b5-4fbe-41f2-9d4b-14c426c84fc0"
      },
      "execution_count": 4,
      "outputs": [
        {
          "output_type": "stream",
          "name": "stdout",
          "text": [
            "120000 7600\n",
            "120000 7600\n"
          ]
        }
      ]
    },
    {
      "cell_type": "markdown",
      "source": [
        "here we tokenize each news by whitespaces.  \n",
        "`NOTE : Our data was preprocessed before in the previous phase of project` "
      ],
      "metadata": {
        "id": "uqQWjWvnHyvn"
      }
    },
    {
      "cell_type": "code",
      "source": [
        "tokenized_news = [a.split(' ') for a in news_train]\n",
        "print(tokenized_news[10])"
      ],
      "metadata": {
        "colab": {
          "base_uri": "https://localhost:8080/"
        },
        "id": "lPuGBRYhj_NM",
        "outputId": "55a2435b-26c1-4fc4-84fb-46f908d57eba"
      },
      "execution_count": 5,
      "outputs": [
        {
          "output_type": "stream",
          "name": "stdout",
          "text": [
            "['new', 'york', 'reuters', 'soaring', 'crude', 'price', 'plus', 'worry', 'economy', 'outlook', 'earnings', 'expected', 'hang', 'stock', 'market', 'next', 'week', 'depth', 'summer', 'doldrums']\n"
          ]
        }
      ]
    },
    {
      "cell_type": "markdown",
      "source": [
        "`this cell is just for AG news dataset`  \n",
        "in here we concatenate train and test data to get the whole of data and vectorize seprate it for our model."
      ],
      "metadata": {
        "id": "SHxvmRNTIUuo"
      }
    },
    {
      "cell_type": "code",
      "source": [
        "# concatenate news train and test\n",
        "news_con = np.array(news_train + news_test)\n",
        "categories_con = np.array(categories_train + categories_test, dtype=np.float32)\n",
        "\n",
        "news_con.shape, categories_con.shape, categories_train[:120000] == categories_con[:120000]"
      ],
      "metadata": {
        "colab": {
          "base_uri": "https://localhost:8080/"
        },
        "id": "Uj2olazP6Tld",
        "outputId": "0c33acc1-5415-49c4-f981-9d360e38466c"
      },
      "execution_count": 6,
      "outputs": [
        {
          "output_type": "execute_result",
          "data": {
            "text/plain": [
              "((127600,), (127600,), array([ True,  True,  True, ...,  True,  True,  True]))"
            ]
          },
          "metadata": {},
          "execution_count": 6
        }
      ]
    },
    {
      "cell_type": "markdown",
      "source": [
        "we shuffle our data with sklearn library"
      ],
      "metadata": {
        "id": "hCDCDuxmIr6m"
      }
    },
    {
      "cell_type": "code",
      "source": [
        "# shuffle data\n",
        "news_con, categories_con = shuffle(news_con, categories_con, random_state=13)\n"
      ],
      "metadata": {
        "id": "_oWV-ESp_CN-"
      },
      "execution_count": 7,
      "outputs": []
    },
    {
      "cell_type": "markdown",
      "source": [
        "in the below cell you can check out the visualization of our AG news data."
      ],
      "metadata": {
        "id": "PH7gyxg6mkFj"
      }
    },
    {
      "cell_type": "code",
      "source": [
        "df_all = pd.concat([df, df_test])\n",
        "plt.figure(figsize=(14,8))\n",
        "count = df_all.category.value_counts()\n",
        "sns.barplot(x=count.index, y=count)\n",
        "plt.xlabel('Category')\n",
        "plt.ylabel('Count')\n",
        "plt.xticks(rotation=90);"
      ],
      "metadata": {
        "colab": {
          "base_uri": "https://localhost:8080/",
          "height": 493
        },
        "id": "azmtjDKzmjBG",
        "outputId": "a6544e32-506a-4d3f-897c-596258818179"
      },
      "execution_count": null,
      "outputs": [
        {
          "output_type": "display_data",
          "data": {
            "text/plain": [
              "<Figure size 1008x576 with 1 Axes>"
            ],
            "image/png": "[encoded data removed]"
          },
          "metadata": {
            "needs_background": "light"
          }
        }
      ]
    },
    {
      "cell_type": "markdown",
      "source": [
        " in the following cell, we use keras library to tokenize our news and create vectorization from them. The Tokenizer class allows to vectorize a text corpus and after we use this vectorezie to a embedding layer."
      ],
      "metadata": {
        "id": "r3Y2Sw2iIw7w"
      }
    },
    {
      "cell_type": "code",
      "source": [
        "## The maximum number of words to be used. (most frequent)\n",
        "MAX_NB_WORDS = 20000\n",
        "\n",
        "## Max number of words in each complaint.\n",
        "MAX_SEQUENCE_LENGTH = 250\n",
        "\n",
        "## This is fixed.\n",
        "EMBEDDING_DIM = 100\n",
        "\n",
        "\n",
        "tokenizer = Tokenizer(num_words=MAX_NB_WORDS, filters='!\"#$%&()*+,-./:;<=>?@[\\]^_`{|}~', lower=True)\n",
        "tokenizer.fit_on_texts(news_con)\n",
        "\n",
        "## for Ag\n",
        "tokenizer.fit_on_texts(news_con)\n",
        "\n",
        "word_index = tokenizer.word_index\n",
        "print('Found %s unique tokens.' % len(word_index))\n"
      ],
      "metadata": {
        "colab": {
          "base_uri": "https://localhost:8080/"
        },
        "id": "X-ObkDSX6X_s",
        "outputId": "d322709d-558d-401c-8ac7-f974ec2ff09f"
      },
      "execution_count": 8,
      "outputs": [
        {
          "output_type": "stream",
          "name": "stdout",
          "text": [
            "Found 80123 unique tokens.\n"
          ]
        }
      ]
    },
    {
      "cell_type": "markdown",
      "source": [
        "1. In the below cell, we convert each news to its vectorize representation.  \n",
        "2. also we add 0 padding to reach the maximum size of a sentence.\n",
        "3. next we convert the true labels to the categorical one since we have classification task and we are going to use binary cross entropy for classification. "
      ],
      "metadata": {
        "id": "E-rMB7A9Ll48"
      }
    },
    {
      "cell_type": "code",
      "source": [
        "X = tokenizer.texts_to_sequences(news_con)\n",
        "\n",
        "X = pad_sequences(X, maxlen=MAX_SEQUENCE_LENGTH)\n",
        "\n",
        "class_num = len(np.unique(categories_con))\n",
        "\n",
        "## conver the target class co categorical.\n",
        "y = tf.keras.utils.to_categorical(categories_con - 1, num_classes= class_num)\n",
        "\n",
        "print('Shape of data input tensor:', X.shape)\n",
        "print('Shape of target class tensor:', y.shape)\n"
      ],
      "metadata": {
        "colab": {
          "base_uri": "https://localhost:8080/"
        },
        "id": "40D6UKvvLQo6",
        "outputId": "386915fa-1147-470e-fd82-94af5a11e236"
      },
      "execution_count": 9,
      "outputs": [
        {
          "output_type": "stream",
          "name": "stdout",
          "text": [
            "Shape of data input tensor: (127600, 250)\n",
            "Shape of target class tensor: (127600, 4)\n"
          ]
        }
      ]
    },
    {
      "cell_type": "markdown",
      "source": [
        "## Break News Category Dataset"
      ],
      "metadata": {
        "id": "KDnpGfxU9U0O"
      }
    },
    {
      "cell_type": "markdown",
      "source": [
        "This data set is taken from [kaggle](https://www.kaggle.com/datasets/rmisra/news-category-dataset)"
      ],
      "metadata": {
        "id": "YGkifKT59b8j"
      }
    },
    {
      "cell_type": "code",
      "source": [
        "! pip install kaggle"
      ],
      "metadata": {
        "colab": {
          "base_uri": "https://localhost:8080/"
        },
        "id": "-qblyxZF9zwK",
        "outputId": "635026ba-c140-4278-b9de-01d2bf751267"
      },
      "execution_count": null,
      "outputs": [
        {
          "output_type": "stream",
          "name": "stdout",
          "text": [
            "Looking in indexes: https://pypi.org/simple, https://us-python.pkg.dev/colab-wheels/public/simple/\n",
            "Requirement already satisfied: kaggle in /usr/local/lib/python3.7/dist-packages (1.5.12)\n",
            "Requirement already satisfied: tqdm in /usr/local/lib/python3.7/dist-packages (from kaggle) (4.64.0)\n",
            "Requirement already satisfied: python-slugify in /usr/local/lib/python3.7/dist-packages (from kaggle) (6.1.2)\n",
            "Requirement already satisfied: urllib3 in /usr/local/lib/python3.7/dist-packages (from kaggle) (1.24.3)\n",
            "Requirement already satisfied: six>=1.10 in /usr/local/lib/python3.7/dist-packages (from kaggle) (1.15.0)\n",
            "Requirement already satisfied: requests in /usr/local/lib/python3.7/dist-packages (from kaggle) (2.23.0)\n",
            "Requirement already satisfied: python-dateutil in /usr/local/lib/python3.7/dist-packages (from kaggle) (2.8.2)\n",
            "Requirement already satisfied: certifi in /usr/local/lib/python3.7/dist-packages (from kaggle) (2022.6.15)\n",
            "Requirement already satisfied: text-unidecode>=1.3 in /usr/local/lib/python3.7/dist-packages (from python-slugify->kaggle) (1.3)\n",
            "Requirement already satisfied: chardet<4,>=3.0.2 in /usr/local/lib/python3.7/dist-packages (from requests->kaggle) (3.0.4)\n",
            "Requirement already satisfied: idna<3,>=2.5 in /usr/local/lib/python3.7/dist-packages (from requests->kaggle) (2.10)\n"
          ]
        }
      ]
    },
    {
      "cell_type": "code",
      "source": [
        "! mkdir ~/.kaggle"
      ],
      "metadata": {
        "colab": {
          "base_uri": "https://localhost:8080/"
        },
        "id": "a97Re7lU9i6b",
        "outputId": "8d67f828-16d5-443b-f228-b2631dc63d4b"
      },
      "execution_count": null,
      "outputs": [
        {
          "output_type": "stream",
          "name": "stdout",
          "text": [
            "mkdir: cannot create directory ‘/root/.kaggle’: File exists\n"
          ]
        }
      ]
    },
    {
      "cell_type": "code",
      "source": [
        "! cp kaggle.json ~/.kaggle/"
      ],
      "metadata": {
        "id": "PrxuKF__-hbt"
      },
      "execution_count": null,
      "outputs": []
    },
    {
      "cell_type": "code",
      "source": [
        "! chmod 600 ~/.kaggle/kaggle.json"
      ],
      "metadata": {
        "id": "isJIz4ev-kTP"
      },
      "execution_count": null,
      "outputs": []
    },
    {
      "cell_type": "code",
      "source": [
        "! kaggle datasets download -d rmisra/news-category-dataset"
      ],
      "metadata": {
        "colab": {
          "base_uri": "https://localhost:8080/"
        },
        "id": "aasKBiG--pfZ",
        "outputId": "504f79f9-30e6-47f5-b142-ffe8e4430751"
      },
      "execution_count": null,
      "outputs": [
        {
          "output_type": "stream",
          "name": "stdout",
          "text": [
            "Downloading news-category-dataset.zip to /content\n",
            "\r  0% 0.00/25.4M [00:00<?, ?B/s]\r 35% 9.00M/25.4M [00:00<00:00, 65.6MB/s]\n",
            "\r100% 25.4M/25.4M [00:00<00:00, 133MB/s] \n"
          ]
        }
      ]
    },
    {
      "cell_type": "code",
      "source": [
        "! unzip news-category-dataset.zip"
      ],
      "metadata": {
        "colab": {
          "base_uri": "https://localhost:8080/"
        },
        "id": "D7HTygE4-ypG",
        "outputId": "98b7b5e0-e20d-461a-eec0-7adee872bd6a"
      },
      "execution_count": null,
      "outputs": [
        {
          "output_type": "stream",
          "name": "stdout",
          "text": [
            "Archive:  news-category-dataset.zip\n",
            "  inflating: News_Category_Dataset_v2.json  \n"
          ]
        }
      ]
    },
    {
      "cell_type": "code",
      "source": [
        "! cp News_Category_Dataset_v2.json /content/drive/MyDrive/nlp/"
      ],
      "metadata": {
        "id": "t6q9JvKx_BBu"
      },
      "execution_count": null,
      "outputs": []
    },
    {
      "cell_type": "markdown",
      "source": [
        "### visualize data"
      ],
      "metadata": {
        "id": "l8-rknlH_ccj"
      }
    },
    {
      "cell_type": "code",
      "source": [
        "data_path = '/content/drive/MyDrive/nlp/News_Category_Dataset_v2.json'\n",
        "df = pd.read_json(data_path, lines=True)\n",
        "df.head()"
      ],
      "metadata": {
        "colab": {
          "base_uri": "https://localhost:8080/",
          "height": 206
        },
        "id": "D0SzjrDz_bim",
        "outputId": "5b73221c-1b2c-4cc4-c36f-786f7181cd3a"
      },
      "execution_count": null,
      "outputs": [
        {
          "output_type": "execute_result",
          "data": {
            "text/plain": [
              "        category                                           headline  \\\n",
              "0          CRIME  There Were 2 Mass Shootings In Texas Last Week...   \n",
              "1  ENTERTAINMENT  Will Smith Joins Diplo And Nicky Jam For The 2...   \n",
              "2  ENTERTAINMENT    Hugh Grant Marries For The First Time At Age 57   \n",
              "3  ENTERTAINMENT  Jim Carrey Blasts 'Castrato' Adam Schiff And D...   \n",
              "4  ENTERTAINMENT  Julianna Margulies Uses Donald Trump Poop Bags...   \n",
              "\n",
              "           authors                                               link  \\\n",
              "0  Melissa Jeltsen  https://www.huffingtonpost.com/entry/texas-ama...   \n",
              "1    Andy McDonald  https://www.huffingtonpost.com/entry/will-smit...   \n",
              "2       Ron Dicker  https://www.huffingtonpost.com/entry/hugh-gran...   \n",
              "3       Ron Dicker  https://www.huffingtonpost.com/entry/jim-carre...   \n",
              "4       Ron Dicker  https://www.huffingtonpost.com/entry/julianna-...   \n",
              "\n",
              "                                   short_description       date  \n",
              "0  She left her husband. He killed their children... 2018-05-26  \n",
              "1                           Of course it has a song. 2018-05-26  \n",
              "2  The actor and his longtime girlfriend Anna Ebe... 2018-05-26  \n",
              "3  The actor gives Dems an ass-kicking for not fi... 2018-05-26  \n",
              "4  The \"Dietland\" actress said using the bags is ... 2018-05-26  "
            ],
            "text/html": [
              "\n",
              "  <div id=\"df-1e9d4dd1-98b7-4956-9a1a-d47b95b069ce\">\n",
              "    <div class=\"colab-df-container\">\n",
              "      <div>\n",
              "<style scoped>\n",
              "    .dataframe tbody tr th:only-of-type {\n",
              "        vertical-align: middle;\n",
              "    }\n",
              "\n",
              "    .dataframe tbody tr th {\n",
              "        vertical-align: top;\n",
              "    }\n",
              "\n",
              "    .dataframe thead th {\n",
              "        text-align: right;\n",
              "    }\n",
              "</style>\n",
              "<table border=\"1\" class=\"dataframe\">\n",
              "  <thead>\n",
              "    <tr style=\"text-align: right;\">\n",
              "      <th></th>\n",
              "      <th>category</th>\n",
              "      <th>headline</th>\n",
              "      <th>authors</th>\n",
              "      <th>link</th>\n",
              "      <th>short_description</th>\n",
              "      <th>date</th>\n",
              "    </tr>\n",
              "  </thead>\n",
              "  <tbody>\n",
              "    <tr>\n",
              "      <th>0</th>\n",
              "      <td>CRIME</td>\n",
              "      <td>There Were 2 Mass Shootings In Texas Last Week...</td>\n",
              "      <td>Melissa Jeltsen</td>\n",
              "      <td>https://www.huffingtonpost.com/entry/texas-ama...</td>\n",
              "      <td>She left her husband. He killed their children...</td>\n",
              "      <td>2018-05-26</td>\n",
              "    </tr>\n",
              "    <tr>\n",
              "      <th>1</th>\n",
              "      <td>ENTERTAINMENT</td>\n",
              "      <td>Will Smith Joins Diplo And Nicky Jam For The 2...</td>\n",
              "      <td>Andy McDonald</td>\n",
              "      <td>https://www.huffingtonpost.com/entry/will-smit...</td>\n",
              "      <td>Of course it has a song.</td>\n",
              "      <td>2018-05-26</td>\n",
              "    </tr>\n",
              "    <tr>\n",
              "      <th>2</th>\n",
              "      <td>ENTERTAINMENT</td>\n",
              "      <td>Hugh Grant Marries For The First Time At Age 57</td>\n",
              "      <td>Ron Dicker</td>\n",
              "      <td>https://www.huffingtonpost.com/entry/hugh-gran...</td>\n",
              "      <td>The actor and his longtime girlfriend Anna Ebe...</td>\n",
              "      <td>2018-05-26</td>\n",
              "    </tr>\n",
              "    <tr>\n",
              "      <th>3</th>\n",
              "      <td>ENTERTAINMENT</td>\n",
              "      <td>Jim Carrey Blasts 'Castrato' Adam Schiff And D...</td>\n",
              "      <td>Ron Dicker</td>\n",
              "      <td>https://www.huffingtonpost.com/entry/jim-carre...</td>\n",
              "      <td>The actor gives Dems an ass-kicking for not fi...</td>\n",
              "      <td>2018-05-26</td>\n",
              "    </tr>\n",
              "    <tr>\n",
              "      <th>4</th>\n",
              "      <td>ENTERTAINMENT</td>\n",
              "      <td>Julianna Margulies Uses Donald Trump Poop Bags...</td>\n",
              "      <td>Ron Dicker</td>\n",
              "      <td>https://www.huffingtonpost.com/entry/julianna-...</td>\n",
              "      <td>The \"Dietland\" actress said using the bags is ...</td>\n",
              "      <td>2018-05-26</td>\n",
              "    </tr>\n",
              "  </tbody>\n",
              "</table>\n",
              "</div>\n",
              "      <button class=\"colab-df-convert\" onclick=\"convertToInteractive('df-1e9d4dd1-98b7-4956-9a1a-d47b95b069ce')\"\n",
              "              title=\"Convert this dataframe to an interactive table.\"\n",
              "              style=\"display:none;\">\n",
              "        \n",
              "  <svg xmlns=\"http://www.w3.org/2000/svg\" height=\"24px\"viewBox=\"0 0 24 24\"\n",
              "       width=\"24px\">\n",
              "    <path d=\"M0 0h24v24H0V0z\" fill=\"none\"/>\n",
              "    <path d=\"M18.56 5.44l.94 2.06.94-2.06 2.06-.94-2.06-.94-.94-2.06-.94 2.06-2.06.94zm-11 1L8.5 8.5l.94-2.06 2.06-.94-2.06-.94L8.5 2.5l-.94 2.06-2.06.94zm10 10l.94 2.06.94-2.06 2.06-.94-2.06-.94-.94-2.06-.94 2.06-2.06.94z\"/><path d=\"M17.41 7.96l-1.37-1.37c-.4-.4-.92-.59-1.43-.59-.52 0-1.04.2-1.43.59L10.3 9.45l-7.72 7.72c-.78.78-.78 2.05 0 2.83L4 21.41c.39.39.9.59 1.41.59.51 0 1.02-.2 1.41-.59l7.78-7.78 2.81-2.81c.8-.78.8-2.07 0-2.86zM5.41 20L4 18.59l7.72-7.72 1.47 1.35L5.41 20z\"/>\n",
              "  </svg>\n",
              "      </button>\n",
              "      \n",
              "  <style>\n",
              "    .colab-df-container {\n",
              "      display:flex;\n",
              "      flex-wrap:wrap;\n",
              "      gap: 12px;\n",
              "    }\n",
              "\n",
              "    .colab-df-convert {\n",
              "      background-color: #E8F0FE;\n",
              "      border: none;\n",
              "      border-radius: 50%;\n",
              "      cursor: pointer;\n",
              "      display: none;\n",
              "      fill: #1967D2;\n",
              "      height: 32px;\n",
              "      padding: 0 0 0 0;\n",
              "      width: 32px;\n",
              "    }\n",
              "\n",
              "    .colab-df-convert:hover {\n",
              "      background-color: #E2EBFA;\n",
              "      box-shadow: 0px 1px 2px rgba(60, 64, 67, 0.3), 0px 1px 3px 1px rgba(60, 64, 67, 0.15);\n",
              "      fill: #174EA6;\n",
              "    }\n",
              "\n",
              "    [theme=dark] .colab-df-convert {\n",
              "      background-color: #3B4455;\n",
              "      fill: #D2E3FC;\n",
              "    }\n",
              "\n",
              "    [theme=dark] .colab-df-convert:hover {\n",
              "      background-color: #434B5C;\n",
              "      box-shadow: 0px 1px 3px 1px rgba(0, 0, 0, 0.15);\n",
              "      filter: drop-shadow(0px 1px 2px rgba(0, 0, 0, 0.3));\n",
              "      fill: #FFFFFF;\n",
              "    }\n",
              "  </style>\n",
              "\n",
              "      <script>\n",
              "        const buttonEl =\n",
              "          document.querySelector('#df-1e9d4dd1-98b7-4956-9a1a-d47b95b069ce button.colab-df-convert');\n",
              "        buttonEl.style.display =\n",
              "          google.colab.kernel.accessAllowed ? 'block' : 'none';\n",
              "\n",
              "        async function convertToInteractive(key) {\n",
              "          const element = document.querySelector('#df-1e9d4dd1-98b7-4956-9a1a-d47b95b069ce');\n",
              "          const dataTable =\n",
              "            await google.colab.kernel.invokeFunction('convertToInteractive',\n",
              "                                                     [key], {});\n",
              "          if (!dataTable) return;\n",
              "\n",
              "          const docLinkHtml = 'Like what you see? Visit the ' +\n",
              "            '<a target=\"_blank\" href=https://colab.research.google.com/notebooks/data_table.ipynb>data table notebook</a>'\n",
              "            + ' to learn more about interactive tables.';\n",
              "          element.innerHTML = '';\n",
              "          dataTable['output_type'] = 'display_data';\n",
              "          await google.colab.output.renderOutput(dataTable, element);\n",
              "          const docLink = document.createElement('div');\n",
              "          docLink.innerHTML = docLinkHtml;\n",
              "          element.appendChild(docLink);\n",
              "        }\n",
              "      </script>\n",
              "    </div>\n",
              "  </div>\n",
              "  "
            ]
          },
          "metadata": {},
          "execution_count": 53
        }
      ]
    },
    {
      "cell_type": "code",
      "source": [
        "df['category'].value_counts()"
      ],
      "metadata": {
        "colab": {
          "base_uri": "https://localhost:8080/"
        },
        "id": "s2nEPqswP-EB",
        "outputId": "267da256-bb4a-4473-ded0-d743acd01289"
      },
      "execution_count": null,
      "outputs": [
        {
          "output_type": "execute_result",
          "data": {
            "text/plain": [
              "POLITICS          32739\n",
              "WELLNESS          17827\n",
              "ENTERTAINMENT     16058\n",
              "TRAVEL             9887\n",
              "STYLE & BEAUTY     9649\n",
              "PARENTING          8677\n",
              "HEALTHY LIVING     6694\n",
              "QUEER VOICES       6314\n",
              "FOOD & DRINK       6226\n",
              "BUSINESS           5937\n",
              "COMEDY             5175\n",
              "SPORTS             4884\n",
              "BLACK VOICES       4528\n",
              "HOME & LIVING      4195\n",
              "PARENTS            3955\n",
              "THE WORLDPOST      3664\n",
              "WEDDINGS           3651\n",
              "WOMEN              3490\n",
              "IMPACT             3459\n",
              "DIVORCE            3426\n",
              "CRIME              3405\n",
              "MEDIA              2815\n",
              "WEIRD NEWS         2670\n",
              "GREEN              2622\n",
              "WORLDPOST          2579\n",
              "RELIGION           2556\n",
              "STYLE              2254\n",
              "SCIENCE            2178\n",
              "WORLD NEWS         2177\n",
              "TASTE              2096\n",
              "TECH               2082\n",
              "MONEY              1707\n",
              "ARTS               1509\n",
              "FIFTY              1401\n",
              "GOOD NEWS          1398\n",
              "ARTS & CULTURE     1339\n",
              "ENVIRONMENT        1323\n",
              "COLLEGE            1144\n",
              "LATINO VOICES      1129\n",
              "CULTURE & ARTS     1030\n",
              "EDUCATION          1004\n",
              "Name: category, dtype: int64"
            ]
          },
          "metadata": {},
          "execution_count": 68
        }
      ]
    },
    {
      "cell_type": "code",
      "source": [
        "plt.figure(figsize=(14,8))\n",
        "count = df.category.value_counts()\n",
        "sns.barplot(x=count.index, y=count)\n",
        "plt.xlabel('Category')\n",
        "plt.ylabel('Count')\n",
        "plt.xticks(rotation=90);"
      ],
      "metadata": {
        "colab": {
          "base_uri": "https://localhost:8080/",
          "height": 573
        },
        "id": "LcJeZF6VF7AT",
        "outputId": "d8954f4c-18d1-4397-ff6e-00bdf9e65292"
      },
      "execution_count": null,
      "outputs": [
        {
          "output_type": "display_data",
          "data": {
            "text/plain": [
              "<Figure size 1008x576 with 1 Axes>"
            ],
            "image/png": "[encoded data removed]"
          },
          "metadata": {
            "needs_background": "light"
          }
        }
      ]
    },
    {
      "cell_type": "code",
      "source": [
        "LABEL_USED_COUNT = 12\n",
        "label_used = df.category.value_counts().index[:LABEL_USED_COUNT]\n",
        "print('label used for prediction the {}'.format(label_used))"
      ],
      "metadata": {
        "colab": {
          "base_uri": "https://localhost:8080/"
        },
        "id": "z0CCfhGEGlvP",
        "outputId": "1a06d658-de37-411f-fae5-f52ba30f71c3"
      },
      "execution_count": null,
      "outputs": [
        {
          "output_type": "stream",
          "name": "stdout",
          "text": [
            "label used for prediction the Index(['POLITICS', 'WELLNESS', 'ENTERTAINMENT', 'TRAVEL', 'STYLE & BEAUTY',\n",
            "       'PARENTING', 'HEALTHY LIVING', 'QUEER VOICES', 'FOOD & DRINK',\n",
            "       'BUSINESS', 'COMEDY', 'SPORTS'],\n",
            "      dtype='object')\n"
          ]
        }
      ]
    },
    {
      "cell_type": "code",
      "source": [
        "df['text'] = df['headline'] +'. ' +df['short_description']\n",
        "df_v2 = df[['text', 'category']]\n",
        "df_v2.head()"
      ],
      "metadata": {
        "colab": {
          "base_uri": "https://localhost:8080/",
          "height": 206
        },
        "id": "SWFkpPbFNmst",
        "outputId": "ddac4735-ab83-4464-d2a7-a59bf817da39"
      },
      "execution_count": null,
      "outputs": [
        {
          "output_type": "execute_result",
          "data": {
            "text/plain": [
              "                                                text       category\n",
              "0  There Were 2 Mass Shootings In Texas Last Week...          CRIME\n",
              "1  Will Smith Joins Diplo And Nicky Jam For The 2...  ENTERTAINMENT\n",
              "2  Hugh Grant Marries For The First Time At Age 5...  ENTERTAINMENT\n",
              "3  Jim Carrey Blasts 'Castrato' Adam Schiff And D...  ENTERTAINMENT\n",
              "4  Julianna Margulies Uses Donald Trump Poop Bags...  ENTERTAINMENT"
            ],
            "text/html": [
              "\n",
              "  <div id=\"df-6de43a68-6762-4882-b3b2-f5e1a272d3e1\">\n",
              "    <div class=\"colab-df-container\">\n",
              "      <div>\n",
              "<style scoped>\n",
              "    .dataframe tbody tr th:only-of-type {\n",
              "        vertical-align: middle;\n",
              "    }\n",
              "\n",
              "    .dataframe tbody tr th {\n",
              "        vertical-align: top;\n",
              "    }\n",
              "\n",
              "    .dataframe thead th {\n",
              "        text-align: right;\n",
              "    }\n",
              "</style>\n",
              "<table border=\"1\" class=\"dataframe\">\n",
              "  <thead>\n",
              "    <tr style=\"text-align: right;\">\n",
              "      <th></th>\n",
              "      <th>text</th>\n",
              "      <th>category</th>\n",
              "    </tr>\n",
              "  </thead>\n",
              "  <tbody>\n",
              "    <tr>\n",
              "      <th>0</th>\n",
              "      <td>There Were 2 Mass Shootings In Texas Last Week...</td>\n",
              "      <td>CRIME</td>\n",
              "    </tr>\n",
              "    <tr>\n",
              "      <th>1</th>\n",
              "      <td>Will Smith Joins Diplo And Nicky Jam For The 2...</td>\n",
              "      <td>ENTERTAINMENT</td>\n",
              "    </tr>\n",
              "    <tr>\n",
              "      <th>2</th>\n",
              "      <td>Hugh Grant Marries For The First Time At Age 5...</td>\n",
              "      <td>ENTERTAINMENT</td>\n",
              "    </tr>\n",
              "    <tr>\n",
              "      <th>3</th>\n",
              "      <td>Jim Carrey Blasts 'Castrato' Adam Schiff And D...</td>\n",
              "      <td>ENTERTAINMENT</td>\n",
              "    </tr>\n",
              "    <tr>\n",
              "      <th>4</th>\n",
              "      <td>Julianna Margulies Uses Donald Trump Poop Bags...</td>\n",
              "      <td>ENTERTAINMENT</td>\n",
              "    </tr>\n",
              "  </tbody>\n",
              "</table>\n",
              "</div>\n",
              "      <button class=\"colab-df-convert\" onclick=\"convertToInteractive('df-6de43a68-6762-4882-b3b2-f5e1a272d3e1')\"\n",
              "              title=\"Convert this dataframe to an interactive table.\"\n",
              "              style=\"display:none;\">\n",
              "        \n",
              "  <svg xmlns=\"http://www.w3.org/2000/svg\" height=\"24px\"viewBox=\"0 0 24 24\"\n",
              "       width=\"24px\">\n",
              "    <path d=\"M0 0h24v24H0V0z\" fill=\"none\"/>\n",
              "    <path d=\"M18.56 5.44l.94 2.06.94-2.06 2.06-.94-2.06-.94-.94-2.06-.94 2.06-2.06.94zm-11 1L8.5 8.5l.94-2.06 2.06-.94-2.06-.94L8.5 2.5l-.94 2.06-2.06.94zm10 10l.94 2.06.94-2.06 2.06-.94-2.06-.94-.94-2.06-.94 2.06-2.06.94z\"/><path d=\"M17.41 7.96l-1.37-1.37c-.4-.4-.92-.59-1.43-.59-.52 0-1.04.2-1.43.59L10.3 9.45l-7.72 7.72c-.78.78-.78 2.05 0 2.83L4 21.41c.39.39.9.59 1.41.59.51 0 1.02-.2 1.41-.59l7.78-7.78 2.81-2.81c.8-.78.8-2.07 0-2.86zM5.41 20L4 18.59l7.72-7.72 1.47 1.35L5.41 20z\"/>\n",
              "  </svg>\n",
              "      </button>\n",
              "      \n",
              "  <style>\n",
              "    .colab-df-container {\n",
              "      display:flex;\n",
              "      flex-wrap:wrap;\n",
              "      gap: 12px;\n",
              "    }\n",
              "\n",
              "    .colab-df-convert {\n",
              "      background-color: #E8F0FE;\n",
              "      border: none;\n",
              "      border-radius: 50%;\n",
              "      cursor: pointer;\n",
              "      display: none;\n",
              "      fill: #1967D2;\n",
              "      height: 32px;\n",
              "      padding: 0 0 0 0;\n",
              "      width: 32px;\n",
              "    }\n",
              "\n",
              "    .colab-df-convert:hover {\n",
              "      background-color: #E2EBFA;\n",
              "      box-shadow: 0px 1px 2px rgba(60, 64, 67, 0.3), 0px 1px 3px 1px rgba(60, 64, 67, 0.15);\n",
              "      fill: #174EA6;\n",
              "    }\n",
              "\n",
              "    [theme=dark] .colab-df-convert {\n",
              "      background-color: #3B4455;\n",
              "      fill: #D2E3FC;\n",
              "    }\n",
              "\n",
              "    [theme=dark] .colab-df-convert:hover {\n",
              "      background-color: #434B5C;\n",
              "      box-shadow: 0px 1px 3px 1px rgba(0, 0, 0, 0.15);\n",
              "      filter: drop-shadow(0px 1px 2px rgba(0, 0, 0, 0.3));\n",
              "      fill: #FFFFFF;\n",
              "    }\n",
              "  </style>\n",
              "\n",
              "      <script>\n",
              "        const buttonEl =\n",
              "          document.querySelector('#df-6de43a68-6762-4882-b3b2-f5e1a272d3e1 button.colab-df-convert');\n",
              "        buttonEl.style.display =\n",
              "          google.colab.kernel.accessAllowed ? 'block' : 'none';\n",
              "\n",
              "        async function convertToInteractive(key) {\n",
              "          const element = document.querySelector('#df-6de43a68-6762-4882-b3b2-f5e1a272d3e1');\n",
              "          const dataTable =\n",
              "            await google.colab.kernel.invokeFunction('convertToInteractive',\n",
              "                                                     [key], {});\n",
              "          if (!dataTable) return;\n",
              "\n",
              "          const docLinkHtml = 'Like what you see? Visit the ' +\n",
              "            '<a target=\"_blank\" href=https://colab.research.google.com/notebooks/data_table.ipynb>data table notebook</a>'\n",
              "            + ' to learn more about interactive tables.';\n",
              "          element.innerHTML = '';\n",
              "          dataTable['output_type'] = 'display_data';\n",
              "          await google.colab.output.renderOutput(dataTable, element);\n",
              "          const docLink = document.createElement('div');\n",
              "          docLink.innerHTML = docLinkHtml;\n",
              "          element.appendChild(docLink);\n",
              "        }\n",
              "      </script>\n",
              "    </div>\n",
              "  </div>\n",
              "  "
            ]
          },
          "metadata": {},
          "execution_count": 65
        }
      ]
    },
    {
      "cell_type": "code",
      "source": [
        "df_top_category = df_v2[df_v2['category'].isin(label_used)]\n",
        "df_top_category['category'].value_counts()"
      ],
      "metadata": {
        "colab": {
          "base_uri": "https://localhost:8080/"
        },
        "id": "68dQvt9CN6w7",
        "outputId": "23443349-1043-4199-a4c7-5ed8bf8682a8"
      },
      "execution_count": null,
      "outputs": [
        {
          "output_type": "execute_result",
          "data": {
            "text/plain": [
              "POLITICS          32739\n",
              "WELLNESS          17827\n",
              "ENTERTAINMENT     16058\n",
              "TRAVEL             9887\n",
              "STYLE & BEAUTY     9649\n",
              "PARENTING          8677\n",
              "HEALTHY LIVING     6694\n",
              "QUEER VOICES       6314\n",
              "FOOD & DRINK       6226\n",
              "BUSINESS           5937\n",
              "COMEDY             5175\n",
              "SPORTS             4884\n",
              "Name: category, dtype: int64"
            ]
          },
          "metadata": {},
          "execution_count": 67
        }
      ]
    },
    {
      "cell_type": "code",
      "source": [
        "df_top_category.to_csv('/content/drive/MyDrive/nlp/Breaking_News_Top.csv')"
      ],
      "metadata": {
        "id": "SYrq7aauQgvt"
      },
      "execution_count": null,
      "outputs": []
    },
    {
      "cell_type": "code",
      "source": [
        "## get the cleaned data\n",
        "df_clean = pd.read_csv('/content/drive/MyDrive/nlp/cleaned_Breaking_News_Top.csv')\n",
        "df_clean.head()"
      ],
      "metadata": {
        "colab": {
          "base_uri": "https://localhost:8080/",
          "height": 206
        },
        "id": "e2Oaw5E6aVJR",
        "outputId": "fd016883-640c-4ff2-cf7b-63f2c1e2848e"
      },
      "execution_count": 21,
      "outputs": [
        {
          "output_type": "execute_result",
          "data": {
            "text/plain": [
              "   Unnamed: 0                                               news  \\\n",
              "0           0  smith join diplo nicky jam world cup official ...   \n",
              "1           1  hugh grant marries first time age actor longti...   \n",
              "2           2  jim carrey blast castrato adam schiff democrat...   \n",
              "3           3  julianna margulies us donald trump poop bag pi...   \n",
              "4           4  morgan freeman devastated sexual harassment cl...   \n",
              "\n",
              "        category  \n",
              "0  ENTERTAINMENT  \n",
              "1  ENTERTAINMENT  \n",
              "2  ENTERTAINMENT  \n",
              "3  ENTERTAINMENT  \n",
              "4  ENTERTAINMENT  "
            ],
            "text/html": [
              "\n",
              "  <div id=\"df-5c5d4b58-8dad-4c68-ba91-0b4f8435375d\">\n",
              "    <div class=\"colab-df-container\">\n",
              "      <div>\n",
              "<style scoped>\n",
              "    .dataframe tbody tr th:only-of-type {\n",
              "        vertical-align: middle;\n",
              "    }\n",
              "\n",
              "    .dataframe tbody tr th {\n",
              "        vertical-align: top;\n",
              "    }\n",
              "\n",
              "    .dataframe thead th {\n",
              "        text-align: right;\n",
              "    }\n",
              "</style>\n",
              "<table border=\"1\" class=\"dataframe\">\n",
              "  <thead>\n",
              "    <tr style=\"text-align: right;\">\n",
              "      <th></th>\n",
              "      <th>Unnamed: 0</th>\n",
              "      <th>news</th>\n",
              "      <th>category</th>\n",
              "    </tr>\n",
              "  </thead>\n",
              "  <tbody>\n",
              "    <tr>\n",
              "      <th>0</th>\n",
              "      <td>0</td>\n",
              "      <td>smith join diplo nicky jam world cup official ...</td>\n",
              "      <td>ENTERTAINMENT</td>\n",
              "    </tr>\n",
              "    <tr>\n",
              "      <th>1</th>\n",
              "      <td>1</td>\n",
              "      <td>hugh grant marries first time age actor longti...</td>\n",
              "      <td>ENTERTAINMENT</td>\n",
              "    </tr>\n",
              "    <tr>\n",
              "      <th>2</th>\n",
              "      <td>2</td>\n",
              "      <td>jim carrey blast castrato adam schiff democrat...</td>\n",
              "      <td>ENTERTAINMENT</td>\n",
              "    </tr>\n",
              "    <tr>\n",
              "      <th>3</th>\n",
              "      <td>3</td>\n",
              "      <td>julianna margulies us donald trump poop bag pi...</td>\n",
              "      <td>ENTERTAINMENT</td>\n",
              "    </tr>\n",
              "    <tr>\n",
              "      <th>4</th>\n",
              "      <td>4</td>\n",
              "      <td>morgan freeman devastated sexual harassment cl...</td>\n",
              "      <td>ENTERTAINMENT</td>\n",
              "    </tr>\n",
              "  </tbody>\n",
              "</table>\n",
              "</div>\n",
              "      <button class=\"colab-df-convert\" onclick=\"convertToInteractive('df-5c5d4b58-8dad-4c68-ba91-0b4f8435375d')\"\n",
              "              title=\"Convert this dataframe to an interactive table.\"\n",
              "              style=\"display:none;\">\n",
              "        \n",
              "  <svg xmlns=\"http://www.w3.org/2000/svg\" height=\"24px\"viewBox=\"0 0 24 24\"\n",
              "       width=\"24px\">\n",
              "    <path d=\"M0 0h24v24H0V0z\" fill=\"none\"/>\n",
              "    <path d=\"M18.56 5.44l.94 2.06.94-2.06 2.06-.94-2.06-.94-.94-2.06-.94 2.06-2.06.94zm-11 1L8.5 8.5l.94-2.06 2.06-.94-2.06-.94L8.5 2.5l-.94 2.06-2.06.94zm10 10l.94 2.06.94-2.06 2.06-.94-2.06-.94-.94-2.06-.94 2.06-2.06.94z\"/><path d=\"M17.41 7.96l-1.37-1.37c-.4-.4-.92-.59-1.43-.59-.52 0-1.04.2-1.43.59L10.3 9.45l-7.72 7.72c-.78.78-.78 2.05 0 2.83L4 21.41c.39.39.9.59 1.41.59.51 0 1.02-.2 1.41-.59l7.78-7.78 2.81-2.81c.8-.78.8-2.07 0-2.86zM5.41 20L4 18.59l7.72-7.72 1.47 1.35L5.41 20z\"/>\n",
              "  </svg>\n",
              "      </button>\n",
              "      \n",
              "  <style>\n",
              "    .colab-df-container {\n",
              "      display:flex;\n",
              "      flex-wrap:wrap;\n",
              "      gap: 12px;\n",
              "    }\n",
              "\n",
              "    .colab-df-convert {\n",
              "      background-color: #E8F0FE;\n",
              "      border: none;\n",
              "      border-radius: 50%;\n",
              "      cursor: pointer;\n",
              "      display: none;\n",
              "      fill: #1967D2;\n",
              "      height: 32px;\n",
              "      padding: 0 0 0 0;\n",
              "      width: 32px;\n",
              "    }\n",
              "\n",
              "    .colab-df-convert:hover {\n",
              "      background-color: #E2EBFA;\n",
              "      box-shadow: 0px 1px 2px rgba(60, 64, 67, 0.3), 0px 1px 3px 1px rgba(60, 64, 67, 0.15);\n",
              "      fill: #174EA6;\n",
              "    }\n",
              "\n",
              "    [theme=dark] .colab-df-convert {\n",
              "      background-color: #3B4455;\n",
              "      fill: #D2E3FC;\n",
              "    }\n",
              "\n",
              "    [theme=dark] .colab-df-convert:hover {\n",
              "      background-color: #434B5C;\n",
              "      box-shadow: 0px 1px 3px 1px rgba(0, 0, 0, 0.15);\n",
              "      filter: drop-shadow(0px 1px 2px rgba(0, 0, 0, 0.3));\n",
              "      fill: #FFFFFF;\n",
              "    }\n",
              "  </style>\n",
              "\n",
              "      <script>\n",
              "        const buttonEl =\n",
              "          document.querySelector('#df-5c5d4b58-8dad-4c68-ba91-0b4f8435375d button.colab-df-convert');\n",
              "        buttonEl.style.display =\n",
              "          google.colab.kernel.accessAllowed ? 'block' : 'none';\n",
              "\n",
              "        async function convertToInteractive(key) {\n",
              "          const element = document.querySelector('#df-5c5d4b58-8dad-4c68-ba91-0b4f8435375d');\n",
              "          const dataTable =\n",
              "            await google.colab.kernel.invokeFunction('convertToInteractive',\n",
              "                                                     [key], {});\n",
              "          if (!dataTable) return;\n",
              "\n",
              "          const docLinkHtml = 'Like what you see? Visit the ' +\n",
              "            '<a target=\"_blank\" href=https://colab.research.google.com/notebooks/data_table.ipynb>data table notebook</a>'\n",
              "            + ' to learn more about interactive tables.';\n",
              "          element.innerHTML = '';\n",
              "          dataTable['output_type'] = 'display_data';\n",
              "          await google.colab.output.renderOutput(dataTable, element);\n",
              "          const docLink = document.createElement('div');\n",
              "          docLink.innerHTML = docLinkHtml;\n",
              "          element.appendChild(docLink);\n",
              "        }\n",
              "      </script>\n",
              "    </div>\n",
              "  </div>\n",
              "  "
            ]
          },
          "metadata": {},
          "execution_count": 21
        }
      ]
    },
    {
      "cell_type": "code",
      "source": [
        "byn_news = df_clean['news'].values\n",
        "byn_cat = df_clean['category'].values\n",
        "byn_news.shape, byn_cat.shape"
      ],
      "metadata": {
        "colab": {
          "base_uri": "https://localhost:8080/"
        },
        "id": "a5K7EwvHa_fS",
        "outputId": "000d05c5-28aa-4d34-f107-0e7735f640cf"
      },
      "execution_count": 22,
      "outputs": [
        {
          "output_type": "execute_result",
          "data": {
            "text/plain": [
              "((130053,), (130053,))"
            ]
          },
          "metadata": {},
          "execution_count": 22
        }
      ]
    },
    {
      "cell_type": "code",
      "source": [
        "byn_category_str = np.unique(byn_cat)\n",
        "cat_to_index = {val:idx for idx, val in enumerate(byn_category_str)}\n",
        "BYN_CLASS_NUMBERS = len(byn_category_str)\n",
        "print(cat_to_index), len(byn_category_str)"
      ],
      "metadata": {
        "colab": {
          "base_uri": "https://localhost:8080/"
        },
        "id": "bYonGgggbtxV",
        "outputId": "888a6b1d-6f44-4576-d409-a9d809cc95dc"
      },
      "execution_count": 23,
      "outputs": [
        {
          "output_type": "stream",
          "name": "stdout",
          "text": [
            "{'BUSINESS': 0, 'COMEDY': 1, 'ENTERTAINMENT': 2, 'FOOD & DRINK': 3, 'HEALTHY LIVING': 4, 'PARENTING': 5, 'POLITICS': 6, 'QUEER VOICES': 7, 'SPORTS': 8, 'STYLE & BEAUTY': 9, 'TRAVEL': 10, 'WELLNESS': 11}\n"
          ]
        },
        {
          "output_type": "execute_result",
          "data": {
            "text/plain": [
              "(None, 12)"
            ]
          },
          "metadata": {},
          "execution_count": 23
        }
      ]
    },
    {
      "cell_type": "code",
      "source": [
        "byn_y = np.array([cat_to_index.get(key) for key in byn_cat])\n",
        "byn_y.shape "
      ],
      "metadata": {
        "colab": {
          "base_uri": "https://localhost:8080/"
        },
        "id": "3nm4BhCVcTUw",
        "outputId": "e919339c-0a73-4f64-ab6a-e06c9a016386"
      },
      "execution_count": 24,
      "outputs": [
        {
          "output_type": "execute_result",
          "data": {
            "text/plain": [
              "(130053,)"
            ]
          },
          "metadata": {},
          "execution_count": 24
        }
      ]
    },
    {
      "cell_type": "code",
      "source": [
        "## The maximum number of words to be used. (most frequent)\n",
        "MAX_NB_WORDS = 20000\n",
        "\n",
        "## Max number of words in each complaint.\n",
        "MAX_SEQUENCE_LENGTH = 150\n",
        "\n",
        "## This is fixed.\n",
        "EMBEDDING_DIM = 100\n",
        "\n",
        "tokenizer = Tokenizer(num_words=MAX_NB_WORDS, filters='!\"#$%&()*+,-./:;<=>?@[\\]^_`{|}~', lower=True)\n",
        "\n",
        "## for byn\n",
        "tokenizer.fit_on_texts(byn_news)\n",
        "\n",
        "word_index = tokenizer.word_index\n",
        "print('Found %s unique tokens.' % len(word_index))"
      ],
      "metadata": {
        "colab": {
          "base_uri": "https://localhost:8080/"
        },
        "id": "53E8CUEadC5j",
        "outputId": "ceb14f0a-fbdc-41dc-98ac-9c01d0c4c8a5"
      },
      "execution_count": 25,
      "outputs": [
        {
          "output_type": "stream",
          "name": "stdout",
          "text": [
            "Found 75608 unique tokens.\n"
          ]
        }
      ]
    },
    {
      "cell_type": "code",
      "source": [
        "## for BYN\n",
        "X = tokenizer.texts_to_sequences(byn_news)\n",
        "\n",
        "X = pad_sequences(X, maxlen=MAX_SEQUENCE_LENGTH)\n",
        "\n",
        "## BYN\n",
        "y = tf.keras.utils.to_categorical(byn_y)\n",
        "\n",
        "print('Shape of data input tensor:', X.shape)\n",
        "print('Shape of target class tensor:', y.shape)"
      ],
      "metadata": {
        "colab": {
          "base_uri": "https://localhost:8080/"
        },
        "id": "P6PW-IZ9dbXg",
        "outputId": "78d91054-9684-4498-db7c-2a9d1050d83f"
      },
      "execution_count": 26,
      "outputs": [
        {
          "output_type": "stream",
          "name": "stdout",
          "text": [
            "Shape of data input tensor: (130053, 150)\n",
            "Shape of target class tensor: (130053, 12)\n"
          ]
        }
      ]
    },
    {
      "cell_type": "markdown",
      "source": [
        "## Create ataset\n"
      ],
      "metadata": {
        "id": "tft8TwXu3CZC"
      }
    },
    {
      "cell_type": "markdown",
      "source": [
        "here we splite the train and the test data which `0.2` of them are for test-data and the rest is for train-data."
      ],
      "metadata": {
        "id": "KqLJyZlnMR9t"
      }
    },
    {
      "cell_type": "code",
      "source": [
        "# seperate the test and train data\n",
        "X_train, X_test, Y_train, Y_test = train_test_split(X, y, test_size = 0.2, random_state = 42)\n",
        "print(X_train.shape,Y_train.shape)\n",
        "print(X_test.shape,Y_test.shape)"
      ],
      "metadata": {
        "colab": {
          "base_uri": "https://localhost:8080/"
        },
        "id": "51hzHAGYBKOi",
        "outputId": "4194fae0-ceb6-419f-82a8-8e22ce7f2652"
      },
      "execution_count": 27,
      "outputs": [
        {
          "output_type": "stream",
          "name": "stdout",
          "text": [
            "(104042, 150) (104042, 12)\n",
            "(26011, 150) (26011, 12)\n"
          ]
        }
      ]
    },
    {
      "cell_type": "markdown",
      "source": [
        "# Section `2`"
      ],
      "metadata": {
        "id": "SrYZ-QxekuPi"
      }
    },
    {
      "cell_type": "markdown",
      "source": [
        "## build model"
      ],
      "metadata": {
        "id": "ExDb6roeAeAy"
      }
    },
    {
      "cell_type": "markdown",
      "source": [
        "### For AG news"
      ],
      "metadata": {
        "id": "zGVrIocWcXCz"
      }
    },
    {
      "cell_type": "markdown",
      "source": [
        "here we build our model with sequential and embedding layers.\n",
        "also we use some dropout to almost make sure that we won't face overfitting. "
      ],
      "metadata": {
        "id": "Tqtph9hjMlwI"
      }
    },
    {
      "cell_type": "code",
      "source": [
        "from keras.layers.core.dropout import Dropout\n",
        "model = tf.keras.Sequential([\n",
        "    tf.keras.layers.Embedding(MAX_NB_WORDS, EMBEDDING_DIM, input_length=X.shape[1]),\n",
        "    SpatialDropout1D(0.2),\n",
        "    tf.keras.layers.Bidirectional(tf.keras.layers.LSTM(64, recurrent_regularizer='l1_l2')),\n",
        "    Dropout(0.2),\n",
        "    tf.keras.layers.Dense(64, activation='relu'),\n",
        "    tf.keras.layers.Dense(4)\n",
        "])"
      ],
      "metadata": {
        "id": "uA_h2v3kAfW5"
      },
      "execution_count": null,
      "outputs": []
    },
    {
      "cell_type": "markdown",
      "source": [
        "`\n",
        "{\n",
        "  \"optimizer\": \"adam\",\n",
        "  \"loss function\": \"binary cross entropy\",\n",
        "  \"epochs\": 10\n",
        "}\n",
        "`"
      ],
      "metadata": {
        "id": "0w3iszHHNFgg"
      }
    },
    {
      "cell_type": "code",
      "source": [
        "model.compile(loss=tf.keras.losses.BinaryCrossentropy(from_logits=True),\n",
        "              optimizer='adam',\n",
        "              metrics=['accuracy'])\n",
        "print(model.summary())"
      ],
      "metadata": {
        "id": "RHPqFnElA9li",
        "colab": {
          "base_uri": "https://localhost:8080/"
        },
        "outputId": "473d9943-8245-4a7e-da73-bee4dde678d8"
      },
      "execution_count": null,
      "outputs": [
        {
          "output_type": "stream",
          "name": "stdout",
          "text": [
            "Model: \"sequential_7\"\n",
            "_________________________________________________________________\n",
            " Layer (type)                Output Shape              Param #   \n",
            "=================================================================\n",
            " embedding_7 (Embedding)     (None, 250, 100)          2000000   \n",
            "                                                                 \n",
            " spatial_dropout1d_1 (Spatia  (None, 250, 100)         0         \n",
            " lDropout1D)                                                     \n",
            "                                                                 \n",
            " bidirectional_13 (Bidirecti  (None, 128)              84480     \n",
            " onal)                                                           \n",
            "                                                                 \n",
            " dropout_9 (Dropout)         (None, 128)               0         \n",
            "                                                                 \n",
            " dense_14 (Dense)            (None, 64)                8256      \n",
            "                                                                 \n",
            " dense_15 (Dense)            (None, 4)                 260       \n",
            "                                                                 \n",
            "=================================================================\n",
            "Total params: 2,092,996\n",
            "Trainable params: 2,092,996\n",
            "Non-trainable params: 0\n",
            "_________________________________________________________________\n",
            "None\n"
          ]
        }
      ]
    },
    {
      "cell_type": "markdown",
      "source": [
        "Train our model with batch_size 512 and validation data."
      ],
      "metadata": {
        "id": "JgyCccwAN3tY"
      }
    },
    {
      "cell_type": "code",
      "source": [
        "history = model.fit(X_train , Y_train, epochs=10,batch_size=512,\n",
        "                    validation_data=(X_test, Y_test))"
      ],
      "metadata": {
        "colab": {
          "base_uri": "https://localhost:8080/"
        },
        "id": "NtOXCwquDhpW",
        "outputId": "98eae168-fb53-4f11-989b-0a25eb47b21f"
      },
      "execution_count": null,
      "outputs": [
        {
          "output_type": "stream",
          "name": "stdout",
          "text": [
            "Epoch 1/10\n",
            "200/200 [==============================] - 15s 63ms/step - loss: 3.9658 - accuracy: 0.6968 - val_loss: 0.2486 - val_accuracy: 0.8572\n",
            "Epoch 2/10\n",
            "200/200 [==============================] - 12s 61ms/step - loss: 0.1981 - accuracy: 0.8874 - val_loss: 0.1920 - val_accuracy: 0.8870\n",
            "Epoch 3/10\n",
            "200/200 [==============================] - 12s 59ms/step - loss: 0.1586 - accuracy: 0.9163 - val_loss: 0.1846 - val_accuracy: 0.8961\n",
            "Epoch 4/10\n",
            "200/200 [==============================] - 12s 59ms/step - loss: 0.1386 - accuracy: 0.9305 - val_loss: 0.1842 - val_accuracy: 0.8960\n",
            "Epoch 5/10\n",
            "200/200 [==============================] - 12s 58ms/step - loss: 0.1252 - accuracy: 0.9395 - val_loss: 0.1906 - val_accuracy: 0.8948\n",
            "Epoch 6/10\n",
            "200/200 [==============================] - 12s 58ms/step - loss: 0.1147 - accuracy: 0.9467 - val_loss: 0.2012 - val_accuracy: 0.8942\n",
            "Epoch 7/10\n",
            "200/200 [==============================] - 12s 58ms/step - loss: 0.1061 - accuracy: 0.9522 - val_loss: 0.2100 - val_accuracy: 0.8906\n",
            "Epoch 8/10\n",
            "200/200 [==============================] - 12s 58ms/step - loss: 0.0997 - accuracy: 0.9570 - val_loss: 0.2223 - val_accuracy: 0.8879\n",
            "Epoch 9/10\n",
            "200/200 [==============================] - 12s 59ms/step - loss: 0.0942 - accuracy: 0.9604 - val_loss: 0.2384 - val_accuracy: 0.8838\n",
            "Epoch 10/10\n",
            "200/200 [==============================] - 12s 59ms/step - loss: 0.0897 - accuracy: 0.9631 - val_loss: 0.2505 - val_accuracy: 0.8815\n"
          ]
        }
      ]
    },
    {
      "cell_type": "code",
      "source": [
        "# save model\n",
        "model.save('/content/drive/MyDrive/Ag_news_dataset/baseline_model.h5')\n",
        "print('.... model save ...')\n"
      ],
      "metadata": {
        "colab": {
          "base_uri": "https://localhost:8080/"
        },
        "id": "Wn73A_B-YVmT",
        "outputId": "04fd760e-8ffd-4c80-ea9b-0657bc84b2bf"
      },
      "execution_count": null,
      "outputs": [
        {
          "output_type": "stream",
          "name": "stdout",
          "text": [
            ".... model save ...\n"
          ]
        }
      ]
    },
    {
      "cell_type": "code",
      "source": [
        "## plot the accuracy and loss\n",
        "plot_history(histories=history)"
      ],
      "metadata": {
        "colab": {
          "base_uri": "https://localhost:8080/",
          "height": 454
        },
        "id": "3DRV566il0ZG",
        "outputId": "3fcad13d-64e0-4763-b64f-13cbdd2707a1"
      },
      "execution_count": null,
      "outputs": [
        {
          "output_type": "execute_result",
          "data": {
            "text/plain": [
              "(<Figure size 720x360 with 2 Axes>,\n",
              " array([<matplotlib.axes._subplots.AxesSubplot object at 0x7fdd61d30ad0>,\n",
              "        <matplotlib.axes._subplots.AxesSubplot object at 0x7fdda1585890>],\n",
              "       dtype=object))"
            ]
          },
          "metadata": {},
          "execution_count": 53
        },
        {
          "output_type": "display_data",
          "data": {
            "text/plain": [
              "<Figure size 720x360 with 2 Axes>"
            ],
            "image/png": "[encoded data removed]"
          },
          "metadata": {
            "needs_background": "light"
          }
        }
      ]
    },
    {
      "cell_type": "markdown",
      "source": [
        "now we load our model from where the model is saved and plot the confusion matrix.\n"
      ],
      "metadata": {
        "id": "oHGiQLimOGUj"
      }
    },
    {
      "cell_type": "code",
      "source": [
        "new_model = tf.keras.models.load_model('/content/drive/MyDrive/Ag_news_dataset/baseline_model.h5')\n",
        "y_pred = new_model.predict(X_test)\n",
        "\n",
        "#Get the confusion matrix\n",
        "cf_matrix = confusion_matrix(np.argmax(Y_test, axis=1), np.argmax(y_pred, axis=1))\n",
        "sns.heatmap(cf_matrix, cmap=\"Blues\", annot=True)"
      ],
      "metadata": {
        "colab": {
          "base_uri": "https://localhost:8080/",
          "height": 282
        },
        "id": "wYvzCWcKKye4",
        "outputId": "0f21bfe4-a7d5-402c-f44e-46a824216ea5"
      },
      "execution_count": 11,
      "outputs": [
        {
          "output_type": "execute_result",
          "data": {
            "text/plain": [
              "<matplotlib.axes._subplots.AxesSubplot at 0x7f0cc800ad10>"
            ]
          },
          "metadata": {},
          "execution_count": 11
        },
        {
          "output_type": "display_data",
          "data": {
            "text/plain": [
              "<Figure size 432x288 with 2 Axes>"
            ],
            "image/png": "[encoded data removed]"
          },
          "metadata": {
            "needs_background": "light"
          }
        }
      ]
    },
    {
      "cell_type": "markdown",
      "source": [
        "### for NYT"
      ],
      "metadata": {
        "id": "6KhRiSm1cE2J"
      }
    },
    {
      "cell_type": "code",
      "source": [
        "from keras.layers.core.dropout import Dropout\n",
        "model = tf.keras.Sequential([\n",
        "    tf.keras.layers.Embedding(MAX_NB_WORDS, EMBEDDING_DIM, input_length=X.shape[1]),\n",
        "    tf.keras.layers.Bidirectional(tf.keras.layers.LSTM(64,  return_sequences=True, recurrent_regularizer='l1_l2')),\n",
        "    tf.keras.layers.Bidirectional(tf.keras.layers.LSTM(32, recurrent_regularizer='l1_l2')),\n",
        "    tf.keras.layers.Dropout(0.4),\n",
        "    tf.keras.layers.Dense(32, activation='relu'),\n",
        "    tf.keras.layers.Dropout(0.5),\n",
        "    tf.keras.layers.Dense(NYT_CLASS_NUMBERS)\n",
        "])\n",
        "\n",
        "model.compile(loss=tf.keras.losses.BinaryCrossentropy(from_logits=True),\n",
        "              optimizer='adam',\n",
        "              metrics=['accuracy'])\n",
        "print(model.summary())\n"
      ],
      "metadata": {
        "colab": {
          "base_uri": "https://localhost:8080/"
        },
        "id": "p-gK-4vtOEpT",
        "outputId": "b0a8be57-d836-4434-99a7-92d100027b43"
      },
      "execution_count": null,
      "outputs": [
        {
          "output_type": "stream",
          "name": "stdout",
          "text": [
            "Model: \"sequential_5\"\n",
            "_________________________________________________________________\n",
            " Layer (type)                Output Shape              Param #   \n",
            "=================================================================\n",
            " embedding_5 (Embedding)     (None, 150, 100)          2000000   \n",
            "                                                                 \n",
            " bidirectional_10 (Bidirecti  (None, 150, 128)         84480     \n",
            " onal)                                                           \n",
            "                                                                 \n",
            " bidirectional_11 (Bidirecti  (None, 64)               41216     \n",
            " onal)                                                           \n",
            "                                                                 \n",
            " dropout_6 (Dropout)         (None, 64)                0         \n",
            "                                                                 \n",
            " dense_10 (Dense)            (None, 32)                2080      \n",
            "                                                                 \n",
            " dropout_7 (Dropout)         (None, 32)                0         \n",
            "                                                                 \n",
            " dense_11 (Dense)            (None, 33)                1089      \n",
            "                                                                 \n",
            "=================================================================\n",
            "Total params: 2,128,865\n",
            "Trainable params: 2,128,865\n",
            "Non-trainable params: 0\n",
            "_________________________________________________________________\n",
            "None\n"
          ]
        }
      ]
    },
    {
      "cell_type": "code",
      "source": [
        "history = model.fit(X_train , Y_train, epochs=20, batch_size=32,\n",
        "                    validation_data=(X_test, Y_test))"
      ],
      "metadata": {
        "colab": {
          "base_uri": "https://localhost:8080/"
        },
        "id": "EpA26dcYcRpT",
        "outputId": "19a8f6ce-b526-4f5f-c3fb-d3062c818cbb"
      },
      "execution_count": null,
      "outputs": [
        {
          "output_type": "stream",
          "name": "stdout",
          "text": [
            "Epoch 1/20\n",
            "373/373 [==============================] - 19s 38ms/step - loss: 3.1524 - accuracy: 0.0336 - val_loss: 0.1838 - val_accuracy: 0.0584\n",
            "Epoch 2/20\n",
            "373/373 [==============================] - 13s 34ms/step - loss: 0.1952 - accuracy: 0.0586 - val_loss: 0.1724 - val_accuracy: 0.1647\n",
            "Epoch 3/20\n",
            "373/373 [==============================] - 12s 31ms/step - loss: 0.1810 - accuracy: 0.1297 - val_loss: 0.1599 - val_accuracy: 0.2992\n",
            "Epoch 4/20\n",
            "373/373 [==============================] - 11s 30ms/step - loss: 0.1660 - accuracy: 0.2315 - val_loss: 0.1469 - val_accuracy: 0.3804\n",
            "Epoch 5/20\n",
            "373/373 [==============================] - 11s 30ms/step - loss: 0.1505 - accuracy: 0.3313 - val_loss: 0.1397 - val_accuracy: 0.4452\n",
            "Epoch 6/20\n",
            "373/373 [==============================] - 11s 30ms/step - loss: 0.1376 - accuracy: 0.4296 - val_loss: 0.1365 - val_accuracy: 0.4549\n",
            "Epoch 7/20\n",
            "373/373 [==============================] - 11s 30ms/step - loss: 0.1263 - accuracy: 0.5072 - val_loss: 0.1356 - val_accuracy: 0.4824\n",
            "Epoch 8/20\n",
            "373/373 [==============================] - 11s 30ms/step - loss: 0.1188 - accuracy: 0.5656 - val_loss: 0.1391 - val_accuracy: 0.4867\n",
            "Epoch 9/20\n",
            "373/373 [==============================] - 11s 30ms/step - loss: 0.1123 - accuracy: 0.6162 - val_loss: 0.1432 - val_accuracy: 0.5008\n",
            "Epoch 10/20\n",
            "373/373 [==============================] - 12s 33ms/step - loss: 0.1076 - accuracy: 0.6508 - val_loss: 0.1460 - val_accuracy: 0.5049\n",
            "Epoch 11/20\n",
            "373/373 [==============================] - 12s 32ms/step - loss: 0.1033 - accuracy: 0.6801 - val_loss: 0.1505 - val_accuracy: 0.5045\n",
            "Epoch 12/20\n",
            "373/373 [==============================] - 11s 30ms/step - loss: 0.1004 - accuracy: 0.7018 - val_loss: 0.1558 - val_accuracy: 0.5012\n",
            "Epoch 13/20\n",
            "373/373 [==============================] - 12s 31ms/step - loss: 0.0975 - accuracy: 0.7288 - val_loss: 0.1615 - val_accuracy: 0.5032\n",
            "Epoch 14/20\n",
            "373/373 [==============================] - 12s 32ms/step - loss: 0.0956 - accuracy: 0.7367 - val_loss: 0.1642 - val_accuracy: 0.5055\n",
            "Epoch 15/20\n",
            "373/373 [==============================] - 11s 29ms/step - loss: 0.0932 - accuracy: 0.7534 - val_loss: 0.1701 - val_accuracy: 0.4998\n",
            "Epoch 16/20\n",
            "373/373 [==============================] - 11s 30ms/step - loss: 0.0914 - accuracy: 0.7711 - val_loss: 0.1785 - val_accuracy: 0.5109\n",
            "Epoch 17/20\n",
            "373/373 [==============================] - 11s 29ms/step - loss: 0.0899 - accuracy: 0.7801 - val_loss: 0.1800 - val_accuracy: 0.5082\n",
            "Epoch 18/20\n",
            "373/373 [==============================] - 11s 29ms/step - loss: 0.0891 - accuracy: 0.7853 - val_loss: 0.1852 - val_accuracy: 0.5075\n",
            "Epoch 19/20\n",
            "373/373 [==============================] - 11s 30ms/step - loss: 0.0870 - accuracy: 0.8040 - val_loss: 0.1931 - val_accuracy: 0.5176\n",
            "Epoch 20/20\n",
            "373/373 [==============================] - 11s 30ms/step - loss: 0.0859 - accuracy: 0.8102 - val_loss: 0.1970 - val_accuracy: 0.5166\n"
          ]
        }
      ]
    },
    {
      "cell_type": "code",
      "source": [
        "# save model\n",
        "model.save('/content/drive/MyDrive/Ag_news_dataset/baseline_model_nyt.h5')\n",
        "print('.... model save ...')\n"
      ],
      "metadata": {
        "colab": {
          "base_uri": "https://localhost:8080/"
        },
        "id": "GOL0CSEdcHaE",
        "outputId": "dec1ca40-c04e-4d4f-8f8a-150adab074f4"
      },
      "execution_count": null,
      "outputs": [
        {
          "output_type": "stream",
          "name": "stdout",
          "text": [
            ".... model save ...\n"
          ]
        }
      ]
    },
    {
      "cell_type": "code",
      "source": [
        "## plot the accuracy and loss\n",
        "plot_history(histories=history)"
      ],
      "metadata": {
        "colab": {
          "base_uri": "https://localhost:8080/"
        },
        "id": "vAemJQMLkR4U",
        "outputId": "37eada33-2ce1-462d-ea4a-ef08c8e05833"
      },
      "execution_count": null,
      "outputs": [
        {
          "output_type": "execute_result",
          "data": {
            "text/plain": [
              "(<Figure size 720x360 with 2 Axes>,\n",
              " array([<matplotlib.axes._subplots.AxesSubplot object at 0x7fde0979af10>,\n",
              "        <matplotlib.axes._subplots.AxesSubplot object at 0x7fde09782e10>],\n",
              "       dtype=object))"
            ]
          },
          "metadata": {},
          "execution_count": 38
        },
        {
          "output_type": "display_data",
          "data": {
            "text/plain": [
              "<Figure size 720x360 with 2 Axes>"
            ],
            "image/png": "[encoded data removed]"
          },
          "metadata": {
            "needs_background": "light"
          }
        }
      ]
    },
    {
      "cell_type": "code",
      "source": [
        "new_model = tf.keras.models.load_model('/content/drive/MyDrive/Ag_news_dataset/baseline_model_nyt.h5')\n",
        "y_pred = new_model.predict(X_test)\n",
        "\n",
        "#Get the confusion matrix\n",
        "plt.figure(figsize = (15,10))\n",
        "cf_matrix = confusion_matrix(np.argmax(Y_test, axis=1), np.argmax(y_pred, axis=1))\n",
        "sns.heatmap(cf_matrix, cmap=\"Blues\", annot=True)"
      ],
      "metadata": {
        "colab": {
          "base_uri": "https://localhost:8080/",
          "height": 609
        },
        "id": "bfrlV5NzPsEN",
        "outputId": "defa9a2f-33c1-4d1e-c07d-48529e176d89"
      },
      "execution_count": 20,
      "outputs": [
        {
          "output_type": "execute_result",
          "data": {
            "text/plain": [
              "<matplotlib.axes._subplots.AxesSubplot at 0x7f0cc985d990>"
            ]
          },
          "metadata": {},
          "execution_count": 20
        },
        {
          "output_type": "display_data",
          "data": {
            "text/plain": [
              "<Figure size 1080x720 with 2 Axes>"
            ],
            "image/png": "[encoded data removed]"
          },
          "metadata": {
            "needs_background": "light"
          }
        }
      ]
    },
    {
      "cell_type": "markdown",
      "source": [
        "### for BYN"
      ],
      "metadata": {
        "id": "yav-if8OdueC"
      }
    },
    {
      "cell_type": "code",
      "source": [
        "from keras.layers.core.dropout import Dropout\n",
        "model = tf.keras.Sequential([\n",
        "    tf.keras.layers.Embedding(MAX_NB_WORDS, EMBEDDING_DIM, input_length=X.shape[1]),\n",
        "    tf.keras.layers.Bidirectional(tf.keras.layers.LSTM(32,  return_sequences=True, recurrent_regularizer='l1_l2')),\n",
        "    tf.keras.layers.Bidirectional(tf.keras.layers.LSTM(32, recurrent_regularizer='l1_l2')),\n",
        "    tf.keras.layers.Dropout(0.4),\n",
        "    tf.keras.layers.Dense(64, activation='relu'),\n",
        "    tf.keras.layers.Dropout(0.5),\n",
        "    tf.keras.layers.Dense(BYN_CLASS_NUMBERS)\n",
        "])\n",
        "\n",
        "model.compile(loss=tf.keras.losses.BinaryCrossentropy(from_logits=True),\n",
        "              optimizer='adam',\n",
        "              metrics=['accuracy'])\n",
        "print(model.summary())"
      ],
      "metadata": {
        "colab": {
          "base_uri": "https://localhost:8080/"
        },
        "id": "oxjGnKPKeCI7",
        "outputId": "f43acf53-36d7-4161-e85b-81dc7ed5da8f"
      },
      "execution_count": null,
      "outputs": [
        {
          "output_type": "stream",
          "name": "stdout",
          "text": [
            "Model: \"sequential_4\"\n",
            "_________________________________________________________________\n",
            " Layer (type)                Output Shape              Param #   \n",
            "=================================================================\n",
            " embedding_4 (Embedding)     (None, 150, 100)          2000000   \n",
            "                                                                 \n",
            " bidirectional_8 (Bidirectio  (None, 150, 64)          34048     \n",
            " nal)                                                            \n",
            "                                                                 \n",
            " bidirectional_9 (Bidirectio  (None, 64)               24832     \n",
            " nal)                                                            \n",
            "                                                                 \n",
            " dropout_4 (Dropout)         (None, 64)                0         \n",
            "                                                                 \n",
            " dense_8 (Dense)             (None, 64)                4160      \n",
            "                                                                 \n",
            " dropout_5 (Dropout)         (None, 64)                0         \n",
            "                                                                 \n",
            " dense_9 (Dense)             (None, 12)                780       \n",
            "                                                                 \n",
            "=================================================================\n",
            "Total params: 2,063,820\n",
            "Trainable params: 2,063,820\n",
            "Non-trainable params: 0\n",
            "_________________________________________________________________\n",
            "None\n"
          ]
        }
      ]
    },
    {
      "cell_type": "code",
      "source": [
        "history = model.fit(X_train , Y_train, epochs=10, batch_size=512,\n",
        "                    validation_data=(X_test, Y_test))"
      ],
      "metadata": {
        "colab": {
          "base_uri": "https://localhost:8080/"
        },
        "id": "LTb8iMY1eOps",
        "outputId": "7eccde16-4864-4424-947b-a8277b361b2c"
      },
      "execution_count": null,
      "outputs": [
        {
          "output_type": "stream",
          "name": "stdout",
          "text": [
            "Epoch 1/10\n",
            "204/204 [==============================] - 15s 51ms/step - loss: 3.9047 - accuracy: 0.2480 - val_loss: 0.4004 - val_accuracy: 0.4163\n",
            "Epoch 2/10\n",
            "204/204 [==============================] - 9s 44ms/step - loss: 0.2461 - accuracy: 0.5064 - val_loss: 0.1709 - val_accuracy: 0.6116\n",
            "Epoch 3/10\n",
            "204/204 [==============================] - 9s 44ms/step - loss: 0.1673 - accuracy: 0.6554 - val_loss: 0.1411 - val_accuracy: 0.7153\n",
            "Epoch 4/10\n",
            "204/204 [==============================] - 9s 44ms/step - loss: 0.1395 - accuracy: 0.7418 - val_loss: 0.1347 - val_accuracy: 0.7452\n",
            "Epoch 5/10\n",
            "204/204 [==============================] - 9s 45ms/step - loss: 0.1249 - accuracy: 0.7830 - val_loss: 0.1324 - val_accuracy: 0.7515\n",
            "Epoch 6/10\n",
            "204/204 [==============================] - 9s 45ms/step - loss: 0.1151 - accuracy: 0.8072 - val_loss: 0.1336 - val_accuracy: 0.7521\n",
            "Epoch 7/10\n",
            "204/204 [==============================] - 9s 44ms/step - loss: 0.1075 - accuracy: 0.8251 - val_loss: 0.1366 - val_accuracy: 0.7549\n",
            "Epoch 8/10\n",
            "204/204 [==============================] - 9s 44ms/step - loss: 0.1014 - accuracy: 0.8374 - val_loss: 0.1411 - val_accuracy: 0.7527\n",
            "Epoch 9/10\n",
            "204/204 [==============================] - 10s 51ms/step - loss: 0.0957 - accuracy: 0.8492 - val_loss: 0.1457 - val_accuracy: 0.7536\n",
            "Epoch 10/10\n",
            "204/204 [==============================] - 10s 48ms/step - loss: 0.0908 - accuracy: 0.8605 - val_loss: 0.1503 - val_accuracy: 0.7527\n"
          ]
        }
      ]
    },
    {
      "cell_type": "code",
      "source": [
        "model.save('/content/drive/MyDrive/Ag_news_dataset/baseline_model_byn.h5')\n",
        "print('.... model save ...')\n"
      ],
      "metadata": {
        "colab": {
          "base_uri": "https://localhost:8080/"
        },
        "id": "gV3vZ6iNeVtl",
        "outputId": "a024f859-0637-48c0-ac18-c45ece48032b"
      },
      "execution_count": null,
      "outputs": [
        {
          "output_type": "stream",
          "name": "stdout",
          "text": [
            ".... model save ...\n"
          ]
        }
      ]
    },
    {
      "cell_type": "code",
      "source": [
        "## plot the accuracy and loss\n",
        "plot_history(histories=history)"
      ],
      "metadata": {
        "colab": {
          "base_uri": "https://localhost:8080/",
          "height": 454
        },
        "id": "auTJQ3uWjN-3",
        "outputId": "5ddc92bd-22d0-45f5-c4e2-f4162e4c3d07"
      },
      "execution_count": null,
      "outputs": [
        {
          "output_type": "execute_result",
          "data": {
            "text/plain": [
              "(<Figure size 720x360 with 2 Axes>,\n",
              " array([<matplotlib.axes._subplots.AxesSubplot object at 0x7fddf8add190>,\n",
              "        <matplotlib.axes._subplots.AxesSubplot object at 0x7fddf8a3cd90>],\n",
              "       dtype=object))"
            ]
          },
          "metadata": {},
          "execution_count": 23
        },
        {
          "output_type": "display_data",
          "data": {
            "text/plain": [
              "<Figure size 720x360 with 2 Axes>"
            ],
            "image/png": "[encoded data removed]"
          },
          "metadata": {
            "needs_background": "light"
          }
        }
      ]
    },
    {
      "cell_type": "code",
      "source": [
        "new_model = tf.keras.models.load_model('/content/drive/MyDrive/Ag_news_dataset/baseline_model_byn.h5')\n",
        "y_pred = new_model.predict(X_test)\n",
        "\n",
        "#Get the confusion matrix\n",
        "plt.figure(figsize = (15,10))\n",
        "cf_matrix = confusion_matrix(np.argmax(Y_test, axis=1), np.argmax(y_pred, axis=1))\n",
        "sns.heatmap(cf_matrix, cmap=\"Blues\", annot=True)"
      ],
      "metadata": {
        "colab": {
          "base_uri": "https://localhost:8080/",
          "height": 609
        },
        "id": "wAXA-E6YPypW",
        "outputId": "59f7113f-fc56-40af-cc6d-b664ebd3fdbd"
      },
      "execution_count": 28,
      "outputs": [
        {
          "output_type": "execute_result",
          "data": {
            "text/plain": [
              "<matplotlib.axes._subplots.AxesSubplot at 0x7f0c4a6fd4d0>"
            ]
          },
          "metadata": {},
          "execution_count": 28
        },
        {
          "output_type": "display_data",
          "data": {
            "text/plain": [
              "<Figure size 1080x720 with 2 Axes>"
            ],
            "image/png": "[encoded data removed]"
          },
          "metadata": {
            "needs_background": "light"
          }
        }
      ]
    }
  ]
}